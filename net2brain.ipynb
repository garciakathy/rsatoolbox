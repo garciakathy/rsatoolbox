{
 "cells": [
  {
   "cell_type": "markdown",
   "metadata": {
    "id": "eZaCjSWyTVos"
   },
   "source": [
    "# **Step one:**\n",
    "\n",
    "The first step is to clone the Repository. As it is still private for now, you have to enter your username and password into the link below."
   ]
  },
  {
   "cell_type": "code",
   "execution_count": 1,
   "metadata": {
    "colab": {
     "base_uri": "https://localhost:8080/"
    },
    "id": "pxIGgh_6TLCs",
    "outputId": "825db7b5-082c-4038-bbeb-ff7a66408d85"
   },
   "outputs": [
    {
     "output_type": "stream",
     "name": "stdout",
     "text": [
      "/content\n",
      "Cloning into 'rsatoolbox'...\n",
      "remote: Enumerating objects: 616, done.\u001B[K\n",
      "remote: Counting objects: 100% (9/9), done.\u001B[K\n",
      "remote: Compressing objects: 100% (9/9), done.\u001B[K\n",
      "remote: Total 616 (delta 0), reused 0 (delta 0), pack-reused 607\u001B[K\n",
      "Receiving objects: 100% (616/616), 420.34 MiB | 22.15 MiB/s, done.\n",
      "Resolving deltas: 100% (93/93), done.\n",
      "Checking out files: 100% (593/593), done.\n"
     ]
    }
   ],
   "source": [
    "%cd /content/\n",
    "#First clone my Repo\n",
    "!git clone https://github.com/garciakathy/rsatoolbox.git"
   ]
  },
  {
   "cell_type": "markdown",
   "source": [
    "#### Code to pull any new updates while working:"
   ],
   "metadata": {
    "id": "YKIjtOmBPf_G"
   }
  },
  {
   "cell_type": "code",
   "execution_count": 2,
   "metadata": {
    "colab": {
     "base_uri": "https://localhost:8080/"
    },
    "id": "l-TajfP_Ew79",
    "outputId": "103079c3-27d8-47db-a183-0461b9342d1c"
   },
   "outputs": [
    {
     "output_type": "stream",
     "name": "stdout",
     "text": [
      "/content/rsatoolbox\n",
      "From https://github.com/garciakathy/rsatoolbox\n",
      " * branch            main       -> FETCH_HEAD\n",
      "Already up to date.\n"
     ]
    }
   ],
   "source": [
    "%cd /content/rsatoolbox\n",
    "!git pull origin main"
   ]
  },
  {
   "cell_type": "markdown",
   "metadata": {
    "id": "Zs6_FNCbTfDD"
   },
   "source": [
    "# **Step two:**\n",
    "\n",
    "Install the dependencies below:\n"
   ]
  },
  {
   "cell_type": "code",
   "execution_count": 3,
   "metadata": {
    "colab": {
     "base_uri": "https://localhost:8080/",
     "height": 0
    },
    "id": "E0X1cv6fThmK",
    "outputId": "d9a58814-b2ea-4824-b253-b456a7d5f8b4"
   },
   "outputs": [
    {
     "output_type": "stream",
     "name": "stdout",
     "text": [
      "Looking in indexes: https://pypi.org/simple, https://us-python.pkg.dev/colab-wheels/public/simple/\n",
      "Collecting visualpriors\n",
      "  Downloading visualpriors-0.3.5.tar.gz (10 kB)\n",
      "Requirement already satisfied: torch>=0.3.0 in /usr/local/lib/python3.8/dist-packages (from visualpriors) (1.12.1+cu113)\n",
      "Requirement already satisfied: typing-extensions in /usr/local/lib/python3.8/dist-packages (from torch>=0.3.0->visualpriors) (4.1.1)\n",
      "Building wheels for collected packages: visualpriors\n",
      "  Building wheel for visualpriors (setup.py) ... \u001B[?25l\u001B[?25hdone\n",
      "  Created wheel for visualpriors: filename=visualpriors-0.3.5-py3-none-any.whl size=11385 sha256=165c8ba605e642d2d9f0d0fe0e7fce4b129b70589015b1052dbac2c15a43a10b\n",
      "  Stored in directory: /root/.cache/pip/wheels/01/66/15/2ff077931cbff590c71fe7f4734d997e4d1c4e89e2e51a685f\n",
      "Successfully built visualpriors\n",
      "Installing collected packages: visualpriors\n",
      "Successfully installed visualpriors-0.3.5\n",
      "Looking in indexes: https://pypi.org/simple, https://us-python.pkg.dev/colab-wheels/public/simple/\n",
      "Collecting git+https://github.com/dicarlolab/CORnet\n",
      "  Cloning https://github.com/dicarlolab/CORnet to /tmp/pip-req-build-0lsryf7v\n",
      "  Running command git clone -q https://github.com/dicarlolab/CORnet /tmp/pip-req-build-0lsryf7v\n",
      "Requirement already satisfied: torch>=0.4.0+ in /usr/local/lib/python3.8/dist-packages (from CORnet==0.1.0) (1.12.1+cu113)\n",
      "Requirement already satisfied: torchvision in /usr/local/lib/python3.8/dist-packages (from CORnet==0.1.0) (0.13.1+cu113)\n",
      "Requirement already satisfied: numpy in /usr/local/lib/python3.8/dist-packages (from CORnet==0.1.0) (1.21.6)\n",
      "Requirement already satisfied: pandas in /usr/local/lib/python3.8/dist-packages (from CORnet==0.1.0) (1.3.5)\n",
      "Requirement already satisfied: tqdm in /usr/local/lib/python3.8/dist-packages (from CORnet==0.1.0) (4.64.1)\n",
      "Collecting fire\n",
      "  Downloading fire-0.4.0.tar.gz (87 kB)\n",
      "\u001B[K     |████████████████████████████████| 87 kB 4.3 MB/s \n",
      "\u001B[?25hRequirement already satisfied: typing-extensions in /usr/local/lib/python3.8/dist-packages (from torch>=0.4.0+->CORnet==0.1.0) (4.1.1)\n",
      "Requirement already satisfied: six in /usr/local/lib/python3.8/dist-packages (from fire->CORnet==0.1.0) (1.15.0)\n",
      "Requirement already satisfied: termcolor in /usr/local/lib/python3.8/dist-packages (from fire->CORnet==0.1.0) (2.1.1)\n",
      "Requirement already satisfied: python-dateutil>=2.7.3 in /usr/local/lib/python3.8/dist-packages (from pandas->CORnet==0.1.0) (2.8.2)\n",
      "Requirement already satisfied: pytz>=2017.3 in /usr/local/lib/python3.8/dist-packages (from pandas->CORnet==0.1.0) (2022.6)\n",
      "Requirement already satisfied: pillow!=8.3.*,>=5.3.0 in /usr/local/lib/python3.8/dist-packages (from torchvision->CORnet==0.1.0) (7.1.2)\n",
      "Requirement already satisfied: requests in /usr/local/lib/python3.8/dist-packages (from torchvision->CORnet==0.1.0) (2.23.0)\n",
      "Requirement already satisfied: chardet<4,>=3.0.2 in /usr/local/lib/python3.8/dist-packages (from requests->torchvision->CORnet==0.1.0) (3.0.4)\n",
      "Requirement already satisfied: certifi>=2017.4.17 in /usr/local/lib/python3.8/dist-packages (from requests->torchvision->CORnet==0.1.0) (2022.9.24)\n",
      "Requirement already satisfied: idna<3,>=2.5 in /usr/local/lib/python3.8/dist-packages (from requests->torchvision->CORnet==0.1.0) (2.10)\n",
      "Requirement already satisfied: urllib3!=1.25.0,!=1.25.1,<1.26,>=1.21.1 in /usr/local/lib/python3.8/dist-packages (from requests->torchvision->CORnet==0.1.0) (1.24.3)\n",
      "Building wheels for collected packages: CORnet, fire\n",
      "  Building wheel for CORnet (setup.py) ... \u001B[?25l\u001B[?25hdone\n",
      "  Created wheel for CORnet: filename=CORnet-0.1.0-py3-none-any.whl size=23246 sha256=5b8ddc131d70ffa6611e464744957d90f22b739a850722cdb43cf52c1830ffd8\n",
      "  Stored in directory: /tmp/pip-ephem-wheel-cache-709fo_gy/wheels/56/98/52/ef3862c83d834ea1aa88915168c321a6da5889b0255a9d5bf1\n",
      "  Building wheel for fire (setup.py) ... \u001B[?25l\u001B[?25hdone\n",
      "  Created wheel for fire: filename=fire-0.4.0-py2.py3-none-any.whl size=115943 sha256=689d34b02c0a80c088169820ed650427f9d25195f3cb9fbf00b96bcf5b00415c\n",
      "  Stored in directory: /root/.cache/pip/wheels/1f/10/06/2a990ee4d73a8479fe2922445e8a876d38cfbfed052284c6a1\n",
      "Successfully built CORnet fire\n",
      "Installing collected packages: fire, CORnet\n",
      "Successfully installed CORnet-0.1.0 fire-0.4.0\n",
      "Looking in indexes: https://pypi.org/simple, https://us-python.pkg.dev/colab-wheels/public/simple/\n",
      "Collecting ftfy\n",
      "  Downloading ftfy-6.1.1-py3-none-any.whl (53 kB)\n",
      "\u001B[K     |████████████████████████████████| 53 kB 1.6 MB/s \n",
      "\u001B[?25hRequirement already satisfied: regex in /usr/local/lib/python3.8/dist-packages (2022.6.2)\n",
      "Requirement already satisfied: tqdm in /usr/local/lib/python3.8/dist-packages (4.64.1)\n",
      "Requirement already satisfied: wcwidth>=0.2.5 in /usr/local/lib/python3.8/dist-packages (from ftfy) (0.2.5)\n",
      "Installing collected packages: ftfy\n",
      "Successfully installed ftfy-6.1.1\n",
      "Looking in indexes: https://pypi.org/simple, https://us-python.pkg.dev/colab-wheels/public/simple/\n",
      "Collecting git+https://github.com/openai/CLIP.git\n",
      "  Cloning https://github.com/openai/CLIP.git to /tmp/pip-req-build-nzwc5n55\n",
      "  Running command git clone -q https://github.com/openai/CLIP.git /tmp/pip-req-build-nzwc5n55\n",
      "Requirement already satisfied: ftfy in /usr/local/lib/python3.8/dist-packages (from clip==1.0) (6.1.1)\n",
      "Requirement already satisfied: regex in /usr/local/lib/python3.8/dist-packages (from clip==1.0) (2022.6.2)\n",
      "Requirement already satisfied: tqdm in /usr/local/lib/python3.8/dist-packages (from clip==1.0) (4.64.1)\n",
      "Requirement already satisfied: torch in /usr/local/lib/python3.8/dist-packages (from clip==1.0) (1.12.1+cu113)\n",
      "Requirement already satisfied: torchvision in /usr/local/lib/python3.8/dist-packages (from clip==1.0) (0.13.1+cu113)\n",
      "Requirement already satisfied: wcwidth>=0.2.5 in /usr/local/lib/python3.8/dist-packages (from ftfy->clip==1.0) (0.2.5)\n",
      "Requirement already satisfied: typing-extensions in /usr/local/lib/python3.8/dist-packages (from torch->clip==1.0) (4.1.1)\n",
      "Requirement already satisfied: requests in /usr/local/lib/python3.8/dist-packages (from torchvision->clip==1.0) (2.23.0)\n",
      "Requirement already satisfied: numpy in /usr/local/lib/python3.8/dist-packages (from torchvision->clip==1.0) (1.21.6)\n",
      "Requirement already satisfied: pillow!=8.3.*,>=5.3.0 in /usr/local/lib/python3.8/dist-packages (from torchvision->clip==1.0) (7.1.2)\n",
      "Requirement already satisfied: chardet<4,>=3.0.2 in /usr/local/lib/python3.8/dist-packages (from requests->torchvision->clip==1.0) (3.0.4)\n",
      "Requirement already satisfied: certifi>=2017.4.17 in /usr/local/lib/python3.8/dist-packages (from requests->torchvision->clip==1.0) (2022.9.24)\n",
      "Requirement already satisfied: idna<3,>=2.5 in /usr/local/lib/python3.8/dist-packages (from requests->torchvision->clip==1.0) (2.10)\n",
      "Requirement already satisfied: urllib3!=1.25.0,!=1.25.1,<1.26,>=1.21.1 in /usr/local/lib/python3.8/dist-packages (from requests->torchvision->clip==1.0) (1.24.3)\n",
      "Building wheels for collected packages: clip\n",
      "  Building wheel for clip (setup.py) ... \u001B[?25l\u001B[?25hdone\n",
      "  Created wheel for clip: filename=clip-1.0-py3-none-any.whl size=1369408 sha256=90be73b2a9b9d0aa98c6dd22cc4d7ddd3782e8592f6e1493983512ec2c22ece8\n",
      "  Stored in directory: /tmp/pip-ephem-wheel-cache-xb4cxgyp/wheels/ab/4f/3a/5e51521b55997aa6f0690e095c08824219753128ce8d9969a3\n",
      "Successfully built clip\n",
      "Installing collected packages: clip\n",
      "Successfully installed clip-1.0\n",
      "Cloning into 'vissl'...\n",
      "remote: Enumerating objects: 11672, done.\u001B[K\n",
      "remote: Counting objects: 100% (268/268), done.\u001B[K\n",
      "remote: Compressing objects: 100% (143/143), done.\u001B[K\n",
      "remote: Total 11672 (delta 159), reused 223 (delta 124), pack-reused 11404\u001B[K\n",
      "Receiving objects: 100% (11672/11672), 18.31 MiB | 18.06 MiB/s, done.\n",
      "Resolving deltas: 100% (8221/8221), done.\n",
      "/content/rsatoolbox/vissl\n",
      "Note: checking out 'v0.1.6'.\n",
      "\n",
      "You are in 'detached HEAD' state. You can look around, make experimental\n",
      "changes and commit them, and you can discard any commits you make in this\n",
      "state without impacting any branches by performing another checkout.\n",
      "\n",
      "If you want to create a new branch to retain commits you create, you may\n",
      "do so (now or later) by using -b with the checkout command again. Example:\n",
      "\n",
      "  git checkout -b <new-branch-name>\n",
      "\n",
      "HEAD is now at dac766a @allow-large-files [vissl][PR] V0.1.6 build fairscale pip pckg @allow-large-files (#465)\n",
      "Switched to a new branch 'v0.1.6'\n",
      "Looking in indexes: https://pypi.org/simple, https://us-python.pkg.dev/colab-wheels/public/simple/\n",
      "Collecting cython==0.29.22\n",
      "  Downloading Cython-0.29.22-cp38-cp38-manylinux1_x86_64.whl (1.9 MB)\n",
      "\u001B[?25l\n",
      "\u001B[?25hCollecting fvcore==0.1.3.post20210317\n",
      "  Downloading fvcore-0.1.3.post20210317.tar.gz (47 kB)\n",
      "\u001B[?25l\n",
      "\u001B[?25hCollecting iopath==0.1.9\n",
      "  Downloading iopath-0.1.9-py3-none-any.whl (27 kB)\n",
      "Collecting hydra-core==1.0.7\n",
      "  Downloading hydra_core-1.0.7-py3-none-any.whl (123 kB)\n",
      "\u001B[?25l\n",
      "\u001B[?25hCollecting numpy==1.19.5\n",
      "  Downloading numpy-1.19.5-cp38-cp38-manylinux2010_x86_64.whl (14.9 MB)\n",
      "\u001B[?25l\n",
      "\u001B[?25hCollecting parameterized==0.7.4\n",
      "  Downloading parameterized-0.7.4-py2.py3-none-any.whl (25 kB)\n",
      "Collecting scikit-learn==0.24.1\n",
      "  Downloading scikit_learn-0.24.1-cp38-cp38-manylinux2010_x86_64.whl (24.9 MB)\n",
      "\u001B[?25l\n",
      "\u001B[?25hCollecting submitit==1.3.3\n",
      "  Downloading submitit-1.3.3.tar.gz (54 kB)\n",
      "\u001B[?25l\n",
      "\u001B[?25h  Installing build dependencies ... \u001B[?25l\u001B[?25hdone\n",
      "  Getting requirements to build wheel ... \u001B[?25l\u001B[?25hdone\n",
      "    Preparing wheel metadata ... \u001B[?25l\u001B[?25hdone\n",
      "Collecting tabulate==0.8.9\n",
      "  Downloading tabulate-0.8.9-py3-none-any.whl (25 kB)\n",
      "Collecting yacs>=0.1.6\n",
      "  Downloading yacs-0.1.8-py3-none-any.whl (14 kB)\n",
      "Requirement already satisfied: pyyaml>=5.1 in /usr/local/lib/python3.8/dist-packages (from fvcore==0.1.3.post20210317->-r requirements.txt (line 4)) (6.0)\n",
      "Requirement already satisfied: tqdm in /usr/local/lib/python3.8/dist-packages (from fvcore==0.1.3.post20210317->-r requirements.txt (line 4)) (4.64.1)\n",
      "Requirement already satisfied: termcolor>=1.1 in /usr/local/lib/python3.8/dist-packages (from fvcore==0.1.3.post20210317->-r requirements.txt (line 4)) (2.1.1)\n",
      "Requirement already satisfied: Pillow in /usr/local/lib/python3.8/dist-packages (from fvcore==0.1.3.post20210317->-r requirements.txt (line 4)) (7.1.2)\n",
      "Collecting portalocker\n",
      "  Downloading portalocker-2.6.0-py2.py3-none-any.whl (15 kB)\n",
      "Collecting antlr4-python3-runtime==4.8\n",
      "  Downloading antlr4-python3-runtime-4.8.tar.gz (112 kB)\n",
      "\u001B[?25l\n",
      "\u001B[?25hCollecting omegaconf<2.1,>=2.0.5\n",
      "  Downloading omegaconf-2.0.6-py3-none-any.whl (36 kB)\n",
      "Requirement already satisfied: importlib-resources in /usr/local/lib/python3.8/dist-packages (from hydra-core==1.0.7->-r requirements.txt (line 6)) (5.10.0)\n",
      "Requirement already satisfied: threadpoolctl>=2.0.0 in /usr/local/lib/python3.8/dist-packages (from scikit-learn==0.24.1->-r requirements.txt (line 9)) (3.1.0)\n",
      "Requirement already satisfied: scipy>=0.19.1 in /usr/local/lib/python3.8/dist-packages (from scikit-learn==0.24.1->-r requirements.txt (line 9)) (1.7.3)\n",
      "Requirement already satisfied: joblib>=0.11 in /usr/local/lib/python3.8/dist-packages (from scikit-learn==0.24.1->-r requirements.txt (line 9)) (1.2.0)\n",
      "Requirement already satisfied: typing-extensions>=3.7.4.2 in /usr/local/lib/python3.8/dist-packages (from submitit==1.3.3->-r requirements.txt (line 10)) (4.1.1)\n",
      "Requirement already satisfied: cloudpickle>=1.2.1 in /usr/local/lib/python3.8/dist-packages (from submitit==1.3.3->-r requirements.txt (line 10)) (1.5.0)\n",
      "Requirement already satisfied: zipp>=3.1.0 in /usr/local/lib/python3.8/dist-packages (from importlib-resources->hydra-core==1.0.7->-r requirements.txt (line 6)) (3.10.0)\n",
      "Building wheels for collected packages: fvcore, submitit, antlr4-python3-runtime\n",
      "  Building wheel for fvcore (setup.py) ... \u001B[?25l\u001B[?25hdone\n",
      "  Created wheel for fvcore: filename=fvcore-0.1.3.post20210317-py3-none-any.whl size=58544 sha256=b9b6dd3ab659621e4f85068d959e4ec84025f9b1789848c52194ef3833b92ff1\n",
      "  Stored in directory: /root/.cache/pip/wheels/19/65/1b/67f264eee136ba1a866c47cc5af6934e423ee209b7c62c2352\n",
      "  Building wheel for submitit (PEP 517) ... \u001B[?25l\u001B[?25hdone\n",
      "  Created wheel for submitit: filename=submitit-1.3.3-py3-none-any.whl size=66089 sha256=7c0709b97055e42f7c79847f5ad7ae6b7e057d1e4a46913bc6c9e9e46eebe2bc\n",
      "  Stored in directory: /root/.cache/pip/wheels/d4/3b/dc/34a0c899f3148c2fdcf9c2fc857643780000cef5de2c627477\n",
      "  Building wheel for antlr4-python3-runtime (setup.py) ... \u001B[?25l\u001B[?25hdone\n",
      "  Created wheel for antlr4-python3-runtime: filename=antlr4_python3_runtime-4.8-py3-none-any.whl size=141231 sha256=61d3ac72dfc0f0bd5d7c251730b9a5da045224bfa59e11e81153344d3a367268\n",
      "  Stored in directory: /root/.cache/pip/wheels/c8/d0/ab/d43c02eaddc5b9004db86950802442ad9a26f279c619e28da0\n",
      "Successfully built fvcore submitit antlr4-python3-runtime\n",
      "Installing collected packages: portalocker, numpy, yacs, tabulate, omegaconf, iopath, antlr4-python3-runtime, submitit, scikit-learn, parameterized, hydra-core, fvcore, cython\n",
      "  Attempting uninstall: numpy\n",
      "    Found existing installation: numpy 1.21.6\n",
      "    Uninstalling numpy-1.21.6:\n",
      "      Successfully uninstalled numpy-1.21.6\n",
      "  Attempting uninstall: tabulate\n",
      "    Found existing installation: tabulate 0.8.10\n",
      "    Uninstalling tabulate-0.8.10:\n",
      "      Successfully uninstalled tabulate-0.8.10\n",
      "  Attempting uninstall: scikit-learn\n",
      "    Found existing installation: scikit-learn 1.0.2\n",
      "    Uninstalling scikit-learn-1.0.2:\n",
      "      Successfully uninstalled scikit-learn-1.0.2\n",
      "  Attempting uninstall: cython\n",
      "    Found existing installation: Cython 0.29.32\n",
      "    Uninstalling Cython-0.29.32:\n",
      "      Successfully uninstalled Cython-0.29.32\n",
      "\u001B[31mERROR: pip's dependency resolver does not currently take into account all the packages that are installed. This behaviour is the source of the following dependency conflicts.\n",
      "yellowbrick 1.5 requires scikit-learn>=1.0.0, but you have scikit-learn 0.24.1 which is incompatible.\n",
      "xarray-einstats 0.2.2 requires numpy>=1.21, but you have numpy 1.19.5 which is incompatible.\n",
      "tensorflow 2.9.2 requires numpy>=1.20, but you have numpy 1.19.5 which is incompatible.\n",
      "jaxlib 0.3.25+cuda11.cudnn805 requires numpy>=1.20, but you have numpy 1.19.5 which is incompatible.\n",
      "jax 0.3.25 requires numpy>=1.20, but you have numpy 1.19.5 which is incompatible.\n",
      "cmdstanpy 1.0.8 requires numpy>=1.21, but you have numpy 1.19.5 which is incompatible.\u001B[0m\n",
      "Successfully installed antlr4-python3-runtime-4.8 cython-0.29.22 fvcore-0.1.3.post20210317 hydra-core-1.0.7 iopath-0.1.9 numpy-1.19.5 omegaconf-2.0.6 parameterized-0.7.4 portalocker-2.6.0 scikit-learn-0.24.1 submitit-1.3.3 tabulate-0.8.9 yacs-0.1.8\n"
     ]
    },
    {
     "output_type": "display_data",
     "data": {
      "application/vnd.colab-display-data+json": {
       "pip_warning": {
        "packages": [
         "numpy"
        ]
       }
      }
     },
     "metadata": {}
    },
    {
     "output_type": "stream",
     "name": "stdout",
     "text": [
      "Looking in indexes: https://pypi.org/simple, https://us-python.pkg.dev/colab-wheels/public/simple/\n",
      "Requirement already satisfied: opencv-python in /usr/local/lib/python3.8/dist-packages (4.6.0.66)\n",
      "Requirement already satisfied: numpy>=1.17.3 in /usr/local/lib/python3.8/dist-packages (from opencv-python) (1.19.5)\n",
      "\u001B[33mWARNING: Skipping classy-vision as it is not installed.\u001B[0m\n",
      "Looking in indexes: https://pypi.org/simple, https://us-python.pkg.dev/colab-wheels/public/simple/\n",
      "Collecting classy-vision@ https://github.com/facebookresearch/ClassyVision/tarball/4785d5ee19d3bcedd5b28c1eb51ea1f59188b54d\n",
      "  Downloading https://github.com/facebookresearch/ClassyVision/tarball/4785d5ee19d3bcedd5b28c1eb51ea1f59188b54d\n",
      "\u001B[K     / 1.3 MB 788 kB/s\n",
      "\u001B[?25hRequirement already satisfied: fvcore>=0.1.3 in /usr/local/lib/python3.8/dist-packages (from classy-vision@ https://github.com/facebookresearch/ClassyVision/tarball/4785d5ee19d3bcedd5b28c1eb51ea1f59188b54d) (0.1.3.post20210317)\n",
      "Requirement already satisfied: setuptools<58 in /usr/local/lib/python3.8/dist-packages (from classy-vision@ https://github.com/facebookresearch/ClassyVision/tarball/4785d5ee19d3bcedd5b28c1eb51ea1f59188b54d) (57.4.0)\n",
      "Requirement already satisfied: torch>=1.6 in /usr/local/lib/python3.8/dist-packages (from classy-vision@ https://github.com/facebookresearch/ClassyVision/tarball/4785d5ee19d3bcedd5b28c1eb51ea1f59188b54d) (1.12.1+cu113)\n",
      "Requirement already satisfied: torchvision>=0.7 in /usr/local/lib/python3.8/dist-packages (from classy-vision@ https://github.com/facebookresearch/ClassyVision/tarball/4785d5ee19d3bcedd5b28c1eb51ea1f59188b54d) (0.13.1+cu113)\n",
      "Requirement already satisfied: wheel in /usr/local/lib/python3.8/dist-packages (from classy-vision@ https://github.com/facebookresearch/ClassyVision/tarball/4785d5ee19d3bcedd5b28c1eb51ea1f59188b54d) (0.38.4)\n",
      "Requirement already satisfied: iopath>=0.1.2 in /usr/local/lib/python3.8/dist-packages (from fvcore>=0.1.3->classy-vision@ https://github.com/facebookresearch/ClassyVision/tarball/4785d5ee19d3bcedd5b28c1eb51ea1f59188b54d) (0.1.9)\n",
      "Requirement already satisfied: pyyaml>=5.1 in /usr/local/lib/python3.8/dist-packages (from fvcore>=0.1.3->classy-vision@ https://github.com/facebookresearch/ClassyVision/tarball/4785d5ee19d3bcedd5b28c1eb51ea1f59188b54d) (6.0)\n",
      "Requirement already satisfied: yacs>=0.1.6 in /usr/local/lib/python3.8/dist-packages (from fvcore>=0.1.3->classy-vision@ https://github.com/facebookresearch/ClassyVision/tarball/4785d5ee19d3bcedd5b28c1eb51ea1f59188b54d) (0.1.8)\n",
      "Requirement already satisfied: numpy in /usr/local/lib/python3.8/dist-packages (from fvcore>=0.1.3->classy-vision@ https://github.com/facebookresearch/ClassyVision/tarball/4785d5ee19d3bcedd5b28c1eb51ea1f59188b54d) (1.19.5)\n",
      "Requirement already satisfied: Pillow in /usr/local/lib/python3.8/dist-packages (from fvcore>=0.1.3->classy-vision@ https://github.com/facebookresearch/ClassyVision/tarball/4785d5ee19d3bcedd5b28c1eb51ea1f59188b54d) (7.1.2)\n",
      "Requirement already satisfied: termcolor>=1.1 in /usr/local/lib/python3.8/dist-packages (from fvcore>=0.1.3->classy-vision@ https://github.com/facebookresearch/ClassyVision/tarball/4785d5ee19d3bcedd5b28c1eb51ea1f59188b54d) (2.1.1)\n",
      "Requirement already satisfied: tqdm in /usr/local/lib/python3.8/dist-packages (from fvcore>=0.1.3->classy-vision@ https://github.com/facebookresearch/ClassyVision/tarball/4785d5ee19d3bcedd5b28c1eb51ea1f59188b54d) (4.64.1)\n",
      "Requirement already satisfied: tabulate in /usr/local/lib/python3.8/dist-packages (from fvcore>=0.1.3->classy-vision@ https://github.com/facebookresearch/ClassyVision/tarball/4785d5ee19d3bcedd5b28c1eb51ea1f59188b54d) (0.8.9)\n",
      "Requirement already satisfied: portalocker in /usr/local/lib/python3.8/dist-packages (from iopath>=0.1.2->fvcore>=0.1.3->classy-vision@ https://github.com/facebookresearch/ClassyVision/tarball/4785d5ee19d3bcedd5b28c1eb51ea1f59188b54d) (2.6.0)\n",
      "Requirement already satisfied: typing-extensions in /usr/local/lib/python3.8/dist-packages (from torch>=1.6->classy-vision@ https://github.com/facebookresearch/ClassyVision/tarball/4785d5ee19d3bcedd5b28c1eb51ea1f59188b54d) (4.1.1)\n",
      "Requirement already satisfied: requests in /usr/local/lib/python3.8/dist-packages (from torchvision>=0.7->classy-vision@ https://github.com/facebookresearch/ClassyVision/tarball/4785d5ee19d3bcedd5b28c1eb51ea1f59188b54d) (2.23.0)\n",
      "Requirement already satisfied: certifi>=2017.4.17 in /usr/local/lib/python3.8/dist-packages (from requests->torchvision>=0.7->classy-vision@ https://github.com/facebookresearch/ClassyVision/tarball/4785d5ee19d3bcedd5b28c1eb51ea1f59188b54d) (2022.9.24)\n",
      "Requirement already satisfied: urllib3!=1.25.0,!=1.25.1,<1.26,>=1.21.1 in /usr/local/lib/python3.8/dist-packages (from requests->torchvision>=0.7->classy-vision@ https://github.com/facebookresearch/ClassyVision/tarball/4785d5ee19d3bcedd5b28c1eb51ea1f59188b54d) (1.24.3)\n",
      "Requirement already satisfied: chardet<4,>=3.0.2 in /usr/local/lib/python3.8/dist-packages (from requests->torchvision>=0.7->classy-vision@ https://github.com/facebookresearch/ClassyVision/tarball/4785d5ee19d3bcedd5b28c1eb51ea1f59188b54d) (3.0.4)\n",
      "Requirement already satisfied: idna<3,>=2.5 in /usr/local/lib/python3.8/dist-packages (from requests->torchvision>=0.7->classy-vision@ https://github.com/facebookresearch/ClassyVision/tarball/4785d5ee19d3bcedd5b28c1eb51ea1f59188b54d) (2.10)\n",
      "Building wheels for collected packages: classy-vision\n",
      "  Building wheel for classy-vision (setup.py) ... \u001B[?25l\u001B[?25hdone\n",
      "  Created wheel for classy-vision: filename=classy_vision-0.7.0.dev0-py3-none-any.whl size=361425 sha256=8ff8808bfd88b6485f76d232d40ef31fd2b864ad8c3d20901e58c495759574c3\n",
      "  Stored in directory: /tmp/pip-ephem-wheel-cache-ayr7nutl/wheels/87/15/48/332729b7c650b41d36ba9a508ec64a145fcebcb9f439b4ec2d\n",
      "Successfully built classy-vision\n",
      "Installing collected packages: classy-vision\n",
      "Successfully installed classy-vision-0.7.0.dev0\n",
      "\u001B[33mWARNING: Skipping fairscale as it is not installed.\u001B[0m\n",
      "Looking in indexes: https://pypi.org/simple, https://us-python.pkg.dev/colab-wheels/public/simple/\n",
      "Collecting fairscale@ https://github.com/facebookresearch/fairscale/tarball/df7db85cef7f9c30a5b821007754b96eb1f977b6\n",
      "  Downloading https://github.com/facebookresearch/fairscale/tarball/df7db85cef7f9c30a5b821007754b96eb1f977b6\n",
      "\u001B[K     | 932 kB 609 kB/s\n",
      "\u001B[?25h  Installing build dependencies ... \u001B[?25l\u001B[?25hdone\n",
      "  Getting requirements to build wheel ... \u001B[?25l\u001B[?25hdone\n",
      "  Installing backend dependencies ... \u001B[?25l\u001B[?25hdone\n",
      "    Preparing wheel metadata ... \u001B[?25l\u001B[?25hdone\n",
      "Requirement already satisfied: torch>=1.6.0 in /usr/local/lib/python3.8/dist-packages (from fairscale@ https://github.com/facebookresearch/fairscale/tarball/df7db85cef7f9c30a5b821007754b96eb1f977b6) (1.12.1+cu113)\n",
      "Requirement already satisfied: typing-extensions in /usr/local/lib/python3.8/dist-packages (from torch>=1.6.0->fairscale@ https://github.com/facebookresearch/fairscale/tarball/df7db85cef7f9c30a5b821007754b96eb1f977b6) (4.1.1)\n",
      "Building wheels for collected packages: fairscale\n",
      "  Building wheel for fairscale (PEP 517) ... \u001B[?25l\u001B[?25hdone\n",
      "  Created wheel for fairscale: filename=fairscale-0.3.7-py3-none-any.whl size=229103 sha256=5b4b61f71aaa383c9d85cc4e5c765d487683c722905398e7c799aa6736d0aa9f\n",
      "  Stored in directory: /tmp/pip-ephem-wheel-cache-1mnme_25/wheels/b3/74/d2/f18349146b066675584ce1075487bbf224abd981195b4baf3f\n",
      "Successfully built fairscale\n",
      "Installing collected packages: fairscale\n",
      "Successfully installed fairscale-0.3.7\n",
      "Looking in indexes: https://pypi.org/simple, https://us-python.pkg.dev/colab-wheels/public/simple/\n",
      "Obtaining file:///content/rsatoolbox/vissl\n",
      "Requirement already satisfied: cython==0.29.22 in /usr/local/lib/python3.8/dist-packages (from vissl==0.1.6) (0.29.22)\n",
      "Requirement already satisfied: fvcore==0.1.3.post20210317 in /usr/local/lib/python3.8/dist-packages (from vissl==0.1.6) (0.1.3.post20210317)\n",
      "Requirement already satisfied: iopath==0.1.9 in /usr/local/lib/python3.8/dist-packages (from vissl==0.1.6) (0.1.9)\n",
      "Requirement already satisfied: hydra-core==1.0.7 in /usr/local/lib/python3.8/dist-packages (from vissl==0.1.6) (1.0.7)\n",
      "Requirement already satisfied: numpy==1.19.5 in /usr/local/lib/python3.8/dist-packages (from vissl==0.1.6) (1.19.5)\n",
      "Requirement already satisfied: parameterized==0.7.4 in /usr/local/lib/python3.8/dist-packages (from vissl==0.1.6) (0.7.4)\n",
      "Requirement already satisfied: scikit-learn==0.24.1 in /usr/local/lib/python3.8/dist-packages (from vissl==0.1.6) (0.24.1)\n",
      "Requirement already satisfied: submitit==1.3.3 in /usr/local/lib/python3.8/dist-packages (from vissl==0.1.6) (1.3.3)\n",
      "Requirement already satisfied: tabulate==0.8.9 in /usr/local/lib/python3.8/dist-packages (from vissl==0.1.6) (0.8.9)\n",
      "Collecting black==19.3b0\n",
      "  Downloading black-19.3b0-py36-none-any.whl (89 kB)\n",
      "\u001B[K     |████████████████████████████████| 89 kB 4.4 MB/s \n",
      "\u001B[?25hRequirement already satisfied: sphinx in /usr/local/lib/python3.8/dist-packages (from vissl==0.1.6) (1.8.6)\n",
      "Collecting isort==5.7.0\n",
      "  Downloading isort-5.7.0-py3-none-any.whl (104 kB)\n",
      "\u001B[K     |████████████████████████████████| 104 kB 58.4 MB/s \n",
      "\u001B[?25hCollecting flake8==3.8.1\n",
      "  Downloading flake8-3.8.1-py2.py3-none-any.whl (72 kB)\n",
      "\u001B[K     |████████████████████████████████| 72 kB 689 kB/s \n",
      "\u001B[?25hCollecting flake8-bugbear\n",
      "  Downloading flake8_bugbear-22.12.6-py3-none-any.whl (23 kB)\n",
      "Collecting flake8-comprehensions\n",
      "  Downloading flake8_comprehensions-3.10.1-py3-none-any.whl (7.3 kB)\n",
      "Collecting pre-commit\n",
      "  Downloading pre_commit-2.20.0-py2.py3-none-any.whl (199 kB)\n",
      "\u001B[K     |████████████████████████████████| 199 kB 44.5 MB/s \n",
      "\u001B[?25hRequirement already satisfied: nbconvert in /usr/local/lib/python3.8/dist-packages (from vissl==0.1.6) (5.6.1)\n",
      "Requirement already satisfied: bs4 in /usr/local/lib/python3.8/dist-packages (from vissl==0.1.6) (0.0.1)\n",
      "Collecting faiss-gpu\n",
      "  Downloading faiss_gpu-1.7.2-cp38-cp38-manylinux_2_17_x86_64.manylinux2014_x86_64.whl (85.5 MB)\n",
      "\u001B[K     |████████████████████████████████| 85.5 MB 48 kB/s \n",
      "\u001B[?25hRequirement already satisfied: pycocotools>=2.0.1 in /usr/local/lib/python3.8/dist-packages (from vissl==0.1.6) (2.0.6)\n",
      "Requirement already satisfied: tensorboard>=1.15 in /usr/local/lib/python3.8/dist-packages (from vissl==0.1.6) (2.9.1)\n",
      "Requirement already satisfied: attrs>=18.1.0 in /usr/local/lib/python3.8/dist-packages (from black==19.3b0->vissl==0.1.6) (22.1.0)\n",
      "Requirement already satisfied: click>=6.5 in /usr/local/lib/python3.8/dist-packages (from black==19.3b0->vissl==0.1.6) (7.1.2)\n",
      "Requirement already satisfied: toml>=0.9.4 in /usr/local/lib/python3.8/dist-packages (from black==19.3b0->vissl==0.1.6) (0.10.2)\n",
      "Requirement already satisfied: appdirs in /usr/local/lib/python3.8/dist-packages (from black==19.3b0->vissl==0.1.6) (1.4.4)\n",
      "Collecting pyflakes<2.3.0,>=2.2.0\n",
      "  Downloading pyflakes-2.2.0-py2.py3-none-any.whl (66 kB)\n",
      "\u001B[K     |████████████████████████████████| 66 kB 5.6 MB/s \n",
      "\u001B[?25hCollecting mccabe<0.7.0,>=0.6.0\n",
      "  Downloading mccabe-0.6.1-py2.py3-none-any.whl (8.6 kB)\n",
      "Collecting pycodestyle<2.7.0,>=2.6.0a1\n",
      "  Downloading pycodestyle-2.6.0-py2.py3-none-any.whl (41 kB)\n",
      "\u001B[K     |████████████████████████████████| 41 kB 317 kB/s \n",
      "\u001B[?25hRequirement already satisfied: termcolor>=1.1 in /usr/local/lib/python3.8/dist-packages (from fvcore==0.1.3.post20210317->vissl==0.1.6) (2.1.1)\n",
      "Requirement already satisfied: yacs>=0.1.6 in /usr/local/lib/python3.8/dist-packages (from fvcore==0.1.3.post20210317->vissl==0.1.6) (0.1.8)\n",
      "Requirement already satisfied: Pillow in /usr/local/lib/python3.8/dist-packages (from fvcore==0.1.3.post20210317->vissl==0.1.6) (7.1.2)\n",
      "Requirement already satisfied: tqdm in /usr/local/lib/python3.8/dist-packages (from fvcore==0.1.3.post20210317->vissl==0.1.6) (4.64.1)\n",
      "Requirement already satisfied: pyyaml>=5.1 in /usr/local/lib/python3.8/dist-packages (from fvcore==0.1.3.post20210317->vissl==0.1.6) (6.0)\n",
      "Requirement already satisfied: importlib-resources in /usr/local/lib/python3.8/dist-packages (from hydra-core==1.0.7->vissl==0.1.6) (5.10.0)\n",
      "Requirement already satisfied: antlr4-python3-runtime==4.8 in /usr/local/lib/python3.8/dist-packages (from hydra-core==1.0.7->vissl==0.1.6) (4.8)\n",
      "Requirement already satisfied: omegaconf<2.1,>=2.0.5 in /usr/local/lib/python3.8/dist-packages (from hydra-core==1.0.7->vissl==0.1.6) (2.0.6)\n",
      "Requirement already satisfied: portalocker in /usr/local/lib/python3.8/dist-packages (from iopath==0.1.9->vissl==0.1.6) (2.6.0)\n",
      "Requirement already satisfied: joblib>=0.11 in /usr/local/lib/python3.8/dist-packages (from scikit-learn==0.24.1->vissl==0.1.6) (1.2.0)\n",
      "Requirement already satisfied: threadpoolctl>=2.0.0 in /usr/local/lib/python3.8/dist-packages (from scikit-learn==0.24.1->vissl==0.1.6) (3.1.0)\n",
      "Requirement already satisfied: scipy>=0.19.1 in /usr/local/lib/python3.8/dist-packages (from scikit-learn==0.24.1->vissl==0.1.6) (1.7.3)\n",
      "Requirement already satisfied: typing-extensions>=3.7.4.2 in /usr/local/lib/python3.8/dist-packages (from submitit==1.3.3->vissl==0.1.6) (4.1.1)\n",
      "Requirement already satisfied: cloudpickle>=1.2.1 in /usr/local/lib/python3.8/dist-packages (from submitit==1.3.3->vissl==0.1.6) (1.5.0)\n",
      "Requirement already satisfied: matplotlib>=2.1.0 in /usr/local/lib/python3.8/dist-packages (from pycocotools>=2.0.1->vissl==0.1.6) (3.2.2)\n",
      "Requirement already satisfied: pyparsing!=2.0.4,!=2.1.2,!=2.1.6,>=2.0.1 in /usr/local/lib/python3.8/dist-packages (from matplotlib>=2.1.0->pycocotools>=2.0.1->vissl==0.1.6) (3.0.9)\n",
      "Requirement already satisfied: python-dateutil>=2.1 in /usr/local/lib/python3.8/dist-packages (from matplotlib>=2.1.0->pycocotools>=2.0.1->vissl==0.1.6) (2.8.2)\n",
      "Requirement already satisfied: kiwisolver>=1.0.1 in /usr/local/lib/python3.8/dist-packages (from matplotlib>=2.1.0->pycocotools>=2.0.1->vissl==0.1.6) (1.4.4)\n",
      "Requirement already satisfied: cycler>=0.10 in /usr/local/lib/python3.8/dist-packages (from matplotlib>=2.1.0->pycocotools>=2.0.1->vissl==0.1.6) (0.11.0)\n",
      "Requirement already satisfied: six>=1.5 in /usr/local/lib/python3.8/dist-packages (from python-dateutil>=2.1->matplotlib>=2.1.0->pycocotools>=2.0.1->vissl==0.1.6) (1.15.0)\n",
      "Requirement already satisfied: setuptools>=41.0.0 in /usr/local/lib/python3.8/dist-packages (from tensorboard>=1.15->vissl==0.1.6) (57.4.0)\n",
      "Requirement already satisfied: markdown>=2.6.8 in /usr/local/lib/python3.8/dist-packages (from tensorboard>=1.15->vissl==0.1.6) (3.4.1)\n",
      "Requirement already satisfied: protobuf<3.20,>=3.9.2 in /usr/local/lib/python3.8/dist-packages (from tensorboard>=1.15->vissl==0.1.6) (3.19.6)\n",
      "Requirement already satisfied: absl-py>=0.4 in /usr/local/lib/python3.8/dist-packages (from tensorboard>=1.15->vissl==0.1.6) (1.3.0)\n",
      "Requirement already satisfied: requests<3,>=2.21.0 in /usr/local/lib/python3.8/dist-packages (from tensorboard>=1.15->vissl==0.1.6) (2.23.0)\n",
      "Requirement already satisfied: tensorboard-data-server<0.7.0,>=0.6.0 in /usr/local/lib/python3.8/dist-packages (from tensorboard>=1.15->vissl==0.1.6) (0.6.1)\n",
      "Requirement already satisfied: wheel>=0.26 in /usr/local/lib/python3.8/dist-packages (from tensorboard>=1.15->vissl==0.1.6) (0.38.4)\n",
      "Requirement already satisfied: werkzeug>=1.0.1 in /usr/local/lib/python3.8/dist-packages (from tensorboard>=1.15->vissl==0.1.6) (1.0.1)\n",
      "Requirement already satisfied: google-auth-oauthlib<0.5,>=0.4.1 in /usr/local/lib/python3.8/dist-packages (from tensorboard>=1.15->vissl==0.1.6) (0.4.6)\n",
      "Requirement already satisfied: tensorboard-plugin-wit>=1.6.0 in /usr/local/lib/python3.8/dist-packages (from tensorboard>=1.15->vissl==0.1.6) (1.8.1)\n",
      "Requirement already satisfied: google-auth<3,>=1.6.3 in /usr/local/lib/python3.8/dist-packages (from tensorboard>=1.15->vissl==0.1.6) (2.14.1)\n",
      "Requirement already satisfied: grpcio>=1.24.3 in /usr/local/lib/python3.8/dist-packages (from tensorboard>=1.15->vissl==0.1.6) (1.50.0)\n",
      "Requirement already satisfied: pyasn1-modules>=0.2.1 in /usr/local/lib/python3.8/dist-packages (from google-auth<3,>=1.6.3->tensorboard>=1.15->vissl==0.1.6) (0.2.8)\n",
      "Requirement already satisfied: rsa<5,>=3.1.4 in /usr/local/lib/python3.8/dist-packages (from google-auth<3,>=1.6.3->tensorboard>=1.15->vissl==0.1.6) (4.9)\n",
      "Requirement already satisfied: cachetools<6.0,>=2.0.0 in /usr/local/lib/python3.8/dist-packages (from google-auth<3,>=1.6.3->tensorboard>=1.15->vissl==0.1.6) (5.2.0)\n",
      "Requirement already satisfied: requests-oauthlib>=0.7.0 in /usr/local/lib/python3.8/dist-packages (from google-auth-oauthlib<0.5,>=0.4.1->tensorboard>=1.15->vissl==0.1.6) (1.3.1)\n",
      "Requirement already satisfied: importlib-metadata>=4.4 in /usr/local/lib/python3.8/dist-packages (from markdown>=2.6.8->tensorboard>=1.15->vissl==0.1.6) (4.13.0)\n",
      "Requirement already satisfied: zipp>=0.5 in /usr/local/lib/python3.8/dist-packages (from importlib-metadata>=4.4->markdown>=2.6.8->tensorboard>=1.15->vissl==0.1.6) (3.10.0)\n",
      "Requirement already satisfied: pyasn1<0.5.0,>=0.4.6 in /usr/local/lib/python3.8/dist-packages (from pyasn1-modules>=0.2.1->google-auth<3,>=1.6.3->tensorboard>=1.15->vissl==0.1.6) (0.4.8)\n",
      "Requirement already satisfied: chardet<4,>=3.0.2 in /usr/local/lib/python3.8/dist-packages (from requests<3,>=2.21.0->tensorboard>=1.15->vissl==0.1.6) (3.0.4)\n",
      "Requirement already satisfied: idna<3,>=2.5 in /usr/local/lib/python3.8/dist-packages (from requests<3,>=2.21.0->tensorboard>=1.15->vissl==0.1.6) (2.10)\n",
      "Requirement already satisfied: urllib3!=1.25.0,!=1.25.1,<1.26,>=1.21.1 in /usr/local/lib/python3.8/dist-packages (from requests<3,>=2.21.0->tensorboard>=1.15->vissl==0.1.6) (1.24.3)\n",
      "Requirement already satisfied: certifi>=2017.4.17 in /usr/local/lib/python3.8/dist-packages (from requests<3,>=2.21.0->tensorboard>=1.15->vissl==0.1.6) (2022.9.24)\n",
      "Requirement already satisfied: oauthlib>=3.0.0 in /usr/local/lib/python3.8/dist-packages (from requests-oauthlib>=0.7.0->google-auth-oauthlib<0.5,>=0.4.1->tensorboard>=1.15->vissl==0.1.6) (3.2.2)\n",
      "Requirement already satisfied: beautifulsoup4 in /usr/local/lib/python3.8/dist-packages (from bs4->vissl==0.1.6) (4.6.3)\n",
      "Requirement already satisfied: testpath in /usr/local/lib/python3.8/dist-packages (from nbconvert->vissl==0.1.6) (0.6.0)\n",
      "Requirement already satisfied: defusedxml in /usr/local/lib/python3.8/dist-packages (from nbconvert->vissl==0.1.6) (0.7.1)\n",
      "Requirement already satisfied: jinja2>=2.4 in /usr/local/lib/python3.8/dist-packages (from nbconvert->vissl==0.1.6) (2.11.3)\n",
      "Requirement already satisfied: bleach in /usr/local/lib/python3.8/dist-packages (from nbconvert->vissl==0.1.6) (5.0.1)\n",
      "Requirement already satisfied: traitlets>=4.2 in /usr/local/lib/python3.8/dist-packages (from nbconvert->vissl==0.1.6) (5.1.1)\n",
      "Requirement already satisfied: pandocfilters>=1.4.1 in /usr/local/lib/python3.8/dist-packages (from nbconvert->vissl==0.1.6) (1.5.0)\n",
      "Requirement already satisfied: nbformat>=4.4 in /usr/local/lib/python3.8/dist-packages (from nbconvert->vissl==0.1.6) (5.7.0)\n",
      "Requirement already satisfied: jupyter-core in /usr/local/lib/python3.8/dist-packages (from nbconvert->vissl==0.1.6) (4.11.2)\n",
      "Requirement already satisfied: pygments in /usr/local/lib/python3.8/dist-packages (from nbconvert->vissl==0.1.6) (2.6.1)\n",
      "Requirement already satisfied: mistune<2,>=0.8.1 in /usr/local/lib/python3.8/dist-packages (from nbconvert->vissl==0.1.6) (0.8.4)\n",
      "Requirement already satisfied: entrypoints>=0.2.2 in /usr/local/lib/python3.8/dist-packages (from nbconvert->vissl==0.1.6) (0.4)\n",
      "Requirement already satisfied: MarkupSafe>=0.23 in /usr/local/lib/python3.8/dist-packages (from jinja2>=2.4->nbconvert->vissl==0.1.6) (2.0.1)\n",
      "Requirement already satisfied: jsonschema>=2.6 in /usr/local/lib/python3.8/dist-packages (from nbformat>=4.4->nbconvert->vissl==0.1.6) (4.3.3)\n",
      "Requirement already satisfied: fastjsonschema in /usr/local/lib/python3.8/dist-packages (from nbformat>=4.4->nbconvert->vissl==0.1.6) (2.16.2)\n",
      "Requirement already satisfied: pyrsistent!=0.17.0,!=0.17.1,!=0.17.2,>=0.14.0 in /usr/local/lib/python3.8/dist-packages (from jsonschema>=2.6->nbformat>=4.4->nbconvert->vissl==0.1.6) (0.19.2)\n",
      "Requirement already satisfied: webencodings in /usr/local/lib/python3.8/dist-packages (from bleach->nbconvert->vissl==0.1.6) (0.5.1)\n",
      "Collecting cfgv>=2.0.0\n",
      "  Downloading cfgv-3.3.1-py2.py3-none-any.whl (7.3 kB)\n",
      "Collecting identify>=1.0.0\n",
      "  Downloading identify-2.5.9-py2.py3-none-any.whl (98 kB)\n",
      "\u001B[K     |████████████████████████████████| 98 kB 3.8 MB/s \n",
      "\u001B[?25hCollecting virtualenv>=20.0.8\n",
      "  Downloading virtualenv-20.17.1-py3-none-any.whl (8.8 MB)\n",
      "\u001B[K     |████████████████████████████████| 8.8 MB 31.2 MB/s \n",
      "\u001B[?25hCollecting nodeenv>=0.11.1\n",
      "  Downloading nodeenv-1.7.0-py2.py3-none-any.whl (21 kB)\n",
      "Collecting distlib<1,>=0.3.6\n",
      "  Downloading distlib-0.3.6-py2.py3-none-any.whl (468 kB)\n",
      "\u001B[K     |████████████████████████████████| 468 kB 62.6 MB/s \n",
      "\u001B[?25hRequirement already satisfied: filelock<4,>=3.4.1 in /usr/local/lib/python3.8/dist-packages (from virtualenv>=20.0.8->pre-commit->vissl==0.1.6) (3.8.0)\n",
      "Collecting platformdirs<3,>=2.4\n",
      "  Downloading platformdirs-2.6.0-py3-none-any.whl (14 kB)\n",
      "Requirement already satisfied: snowballstemmer>=1.1 in /usr/local/lib/python3.8/dist-packages (from sphinx->vissl==0.1.6) (2.2.0)\n",
      "Requirement already satisfied: sphinxcontrib-websupport in /usr/local/lib/python3.8/dist-packages (from sphinx->vissl==0.1.6) (1.2.4)\n",
      "Requirement already satisfied: imagesize in /usr/local/lib/python3.8/dist-packages (from sphinx->vissl==0.1.6) (1.4.1)\n",
      "Requirement already satisfied: alabaster<0.8,>=0.7 in /usr/local/lib/python3.8/dist-packages (from sphinx->vissl==0.1.6) (0.7.12)\n",
      "Requirement already satisfied: babel!=2.0,>=1.3 in /usr/local/lib/python3.8/dist-packages (from sphinx->vissl==0.1.6) (2.11.0)\n",
      "Requirement already satisfied: packaging in /usr/local/lib/python3.8/dist-packages (from sphinx->vissl==0.1.6) (21.3)\n",
      "Requirement already satisfied: docutils<0.18,>=0.11 in /usr/local/lib/python3.8/dist-packages (from sphinx->vissl==0.1.6) (0.17.1)\n",
      "Requirement already satisfied: pytz>=2015.7 in /usr/local/lib/python3.8/dist-packages (from babel!=2.0,>=1.3->sphinx->vissl==0.1.6) (2022.6)\n",
      "Requirement already satisfied: sphinxcontrib-serializinghtml in /usr/local/lib/python3.8/dist-packages (from sphinxcontrib-websupport->sphinx->vissl==0.1.6) (1.1.5)\n",
      "Installing collected packages: pyflakes, pycodestyle, platformdirs, mccabe, distlib, virtualenv, nodeenv, identify, flake8, cfgv, vissl, pre-commit, isort, flake8-comprehensions, flake8-bugbear, faiss-gpu, black\n",
      "  Running setup.py develop for vissl\n",
      "Successfully installed black-19.3b0 cfgv-3.3.1 distlib-0.3.6 faiss-gpu-1.7.2 flake8-3.8.1 flake8-bugbear-22.12.6 flake8-comprehensions-3.10.1 identify-2.5.9 isort-5.7.0 mccabe-0.6.1 nodeenv-1.7.0 platformdirs-2.6.0 pre-commit-2.20.0 pycodestyle-2.6.0 pyflakes-2.2.0 virtualenv-20.17.1 vissl-0.1.6\n",
      "Looking in indexes: https://pypi.org/simple, https://us-python.pkg.dev/colab-wheels/public/simple/\n",
      "Collecting timm\n",
      "  Downloading timm-0.6.12-py3-none-any.whl (549 kB)\n",
      "\u001B[K     |████████████████████████████████| 549 kB 7.4 MB/s \n",
      "\u001B[?25hCollecting huggingface-hub\n",
      "  Downloading huggingface_hub-0.11.1-py3-none-any.whl (182 kB)\n",
      "\u001B[K     |████████████████████████████████| 182 kB 60.8 MB/s \n",
      "\u001B[?25hRequirement already satisfied: torchvision in /usr/local/lib/python3.8/dist-packages (from timm) (0.13.1+cu113)\n",
      "Requirement already satisfied: pyyaml in /usr/local/lib/python3.8/dist-packages (from timm) (6.0)\n",
      "Requirement already satisfied: torch>=1.7 in /usr/local/lib/python3.8/dist-packages (from timm) (1.12.1+cu113)\n",
      "Requirement already satisfied: typing-extensions in /usr/local/lib/python3.8/dist-packages (from torch>=1.7->timm) (4.1.1)\n",
      "Requirement already satisfied: tqdm in /usr/local/lib/python3.8/dist-packages (from huggingface-hub->timm) (4.64.1)\n",
      "Requirement already satisfied: requests in /usr/local/lib/python3.8/dist-packages (from huggingface-hub->timm) (2.23.0)\n",
      "Requirement already satisfied: packaging>=20.9 in /usr/local/lib/python3.8/dist-packages (from huggingface-hub->timm) (21.3)\n",
      "Requirement already satisfied: filelock in /usr/local/lib/python3.8/dist-packages (from huggingface-hub->timm) (3.8.0)\n",
      "Requirement already satisfied: pyparsing!=3.0.5,>=2.0.2 in /usr/local/lib/python3.8/dist-packages (from packaging>=20.9->huggingface-hub->timm) (3.0.9)\n",
      "Requirement already satisfied: idna<3,>=2.5 in /usr/local/lib/python3.8/dist-packages (from requests->huggingface-hub->timm) (2.10)\n",
      "Requirement already satisfied: chardet<4,>=3.0.2 in /usr/local/lib/python3.8/dist-packages (from requests->huggingface-hub->timm) (3.0.4)\n",
      "Requirement already satisfied: certifi>=2017.4.17 in /usr/local/lib/python3.8/dist-packages (from requests->huggingface-hub->timm) (2022.9.24)\n",
      "Requirement already satisfied: urllib3!=1.25.0,!=1.25.1,<1.26,>=1.21.1 in /usr/local/lib/python3.8/dist-packages (from requests->huggingface-hub->timm) (1.24.3)\n",
      "Requirement already satisfied: pillow!=8.3.*,>=5.3.0 in /usr/local/lib/python3.8/dist-packages (from torchvision->timm) (7.1.2)\n",
      "Requirement already satisfied: numpy in /usr/local/lib/python3.8/dist-packages (from torchvision->timm) (1.19.5)\n",
      "Installing collected packages: huggingface-hub, timm\n",
      "Successfully installed huggingface-hub-0.11.1 timm-0.6.12\n",
      "Looking in indexes: https://pypi.org/simple, https://us-python.pkg.dev/colab-wheels/public/simple/\n",
      "Collecting pyyaml==5.1\n",
      "  Downloading PyYAML-5.1.tar.gz (274 kB)\n",
      "\u001B[K     |████████████████████████████████| 274 kB 8.7 MB/s \n",
      "\u001B[?25hBuilding wheels for collected packages: pyyaml\n",
      "  Building wheel for pyyaml (setup.py) ... \u001B[?25l\u001B[?25hdone\n",
      "  Created wheel for pyyaml: filename=PyYAML-5.1-cp38-cp38-linux_x86_64.whl size=44089 sha256=4cfa77dd25599006b8209548d9295c0f93f4e99cfaa170e04bdaf936e407c140\n",
      "  Stored in directory: /root/.cache/pip/wheels/52/dd/2b/10ff8b0ac81b93946bb5fb9e6749bae2dac246506c8774e6cf\n",
      "Successfully built pyyaml\n",
      "Installing collected packages: pyyaml\n",
      "  Attempting uninstall: pyyaml\n",
      "    Found existing installation: PyYAML 6.0\n",
      "    Uninstalling PyYAML-6.0:\n",
      "      Successfully uninstalled PyYAML-6.0\n",
      "\u001B[31mERROR: pip's dependency resolver does not currently take into account all the packages that are installed. This behaviour is the source of the following dependency conflicts.\n",
      "dask 2022.2.0 requires pyyaml>=5.3.1, but you have pyyaml 5.1 which is incompatible.\u001B[0m\n",
      "Successfully installed pyyaml-5.1\n",
      "Found existing installation: torch 1.12.1+cu113\n",
      "Uninstalling torch-1.12.1+cu113:\n",
      "  Successfully uninstalled torch-1.12.1+cu113\n",
      "Found existing installation: torchvision 0.13.1+cu113\n",
      "Uninstalling torchvision-0.13.1+cu113:\n",
      "  Successfully uninstalled torchvision-0.13.1+cu113\n",
      "Looking in indexes: https://pypi.org/simple, https://us-python.pkg.dev/colab-wheels/public/simple/\n",
      "Looking in links: https://download.pytorch.org/whl/torch_stable.html\n",
      "Collecting torch==1.10.1+cu111\n",
      "  Downloading https://download.pytorch.org/whl/cu111/torch-1.10.1%2Bcu111-cp38-cp38-linux_x86_64.whl (2137.7 MB)\n",
      "\u001B[K     |████████████▌                   | 834.1 MB 1.3 MB/s eta 0:16:46tcmalloc: large alloc 1147494400 bytes == 0x3925c000 @  0x7f0e056c0615 0x5d631c 0x51e4f1 0x51e67b 0x4f7585 0x49ca7c 0x4fdff5 0x49caa1 0x4fdff5 0x49ced5 0x4f60a9 0x55f926 0x4f60a9 0x55f926 0x4f60a9 0x55f926 0x5d7c18 0x5d9412 0x586636 0x5d813c 0x55f3fd 0x55e571 0x5d7cf1 0x49ced5 0x55e571 0x5d7cf1 0x49ec69 0x5d7c18 0x49ca7c 0x4fdff5 0x49ced5\n",
      "\u001B[K     |███████████████▉                | 1055.7 MB 1.3 MB/s eta 0:13:44tcmalloc: large alloc 1434370048 bytes == 0x7d8b2000 @  0x7f0e056c0615 0x5d631c 0x51e4f1 0x51e67b 0x4f7585 0x49ca7c 0x4fdff5 0x49caa1 0x4fdff5 0x49ced5 0x4f60a9 0x55f926 0x4f60a9 0x55f926 0x4f60a9 0x55f926 0x5d7c18 0x5d9412 0x586636 0x5d813c 0x55f3fd 0x55e571 0x5d7cf1 0x49ced5 0x55e571 0x5d7cf1 0x49ec69 0x5d7c18 0x49ca7c 0x4fdff5 0x49ced5\n",
      "\u001B[K     |████████████████████            | 1336.2 MB 1.3 MB/s eta 0:10:20tcmalloc: large alloc 1792966656 bytes == 0x26e4000 @  0x7f0e056c0615 0x5d631c 0x51e4f1 0x51e67b 0x4f7585 0x49ca7c 0x4fdff5 0x49caa1 0x4fdff5 0x49ced5 0x4f60a9 0x55f926 0x4f60a9 0x55f926 0x4f60a9 0x55f926 0x5d7c18 0x5d9412 0x586636 0x5d813c 0x55f3fd 0x55e571 0x5d7cf1 0x49ced5 0x55e571 0x5d7cf1 0x49ec69 0x5d7c18 0x49ca7c 0x4fdff5 0x49ced5\n",
      "\u001B[K     |█████████████████████████▎      | 1691.1 MB 1.2 MB/s eta 0:06:05tcmalloc: large alloc 2241208320 bytes == 0x6d4cc000 @  0x7f0e056c0615 0x5d631c 0x51e4f1 0x51e67b 0x4f7585 0x49ca7c 0x4fdff5 0x49caa1 0x4fdff5 0x49ced5 0x4f60a9 0x55f926 0x4f60a9 0x55f926 0x4f60a9 0x55f926 0x5d7c18 0x5d9412 0x586636 0x5d813c 0x55f3fd 0x55e571 0x5d7cf1 0x49ced5 0x55e571 0x5d7cf1 0x49ec69 0x5d7c18 0x49ca7c 0x4fdff5 0x49ced5\n",
      "\u001B[K     |████████████████████████████████| 2137.7 MB 1.2 MB/s eta 0:00:01tcmalloc: large alloc 2137669632 bytes == 0xf2e2e000 @  0x7f0e056bf1e7 0x4d3280 0x4d330c 0x5d631c 0x51e4f1 0x51e67b 0x4f7585 0x49ca7c 0x55e571 0x5d7cf1 0x49ca7c 0x55e571 0x5d7cf1 0x49ca7c 0x55e571 0x5d7cf1 0x49ca7c 0x55e571 0x5d7cf1 0x49ca7c 0x55e571 0x5d7cf1 0x49ca7c 0x5d7c18 0x49ca7c 0x55e571 0x5d7cf1 0x49ced5 0x4fdff5 0x49ced5 0x55e571\n",
      "tcmalloc: large alloc 2672091136 bytes == 0x1e6982000 @  0x7f0e056c0615 0x5d631c 0x51e4f1 0x51e67b 0x4f7585 0x49ca7c 0x55e571 0x5d7cf1 0x49ca7c 0x55e571 0x5d7cf1 0x49ca7c 0x55e571 0x5d7cf1 0x49ca7c 0x55e571 0x5d7cf1 0x49ca7c 0x55e571 0x5d7cf1 0x49ca7c 0x5d7c18 0x49ca7c 0x55e571 0x5d7cf1 0x49ced5 0x4fdff5 0x49ced5 0x55e571 0x5d7cf1 0x4fea58\n",
      "\u001B[K     |████████████████████████████████| 2137.7 MB 1.8 kB/s \n",
      "\u001B[?25hCollecting torchvision==0.11.2+cu111\n",
      "  Downloading https://download.pytorch.org/whl/cu111/torchvision-0.11.2%2Bcu111-cp38-cp38-linux_x86_64.whl (24.5 MB)\n",
      "\u001B[K     |████████████████████████████████| 24.5 MB 1.3 MB/s \n",
      "\u001B[?25hRequirement already satisfied: typing-extensions in /usr/local/lib/python3.8/dist-packages (from torch==1.10.1+cu111) (4.1.1)\n",
      "Requirement already satisfied: numpy in /usr/local/lib/python3.8/dist-packages (from torchvision==0.11.2+cu111) (1.19.5)\n",
      "Requirement already satisfied: pillow!=8.3.0,>=5.3.0 in /usr/local/lib/python3.8/dist-packages (from torchvision==0.11.2+cu111) (7.1.2)\n",
      "Installing collected packages: torch, torchvision\n",
      "\u001B[31mERROR: pip's dependency resolver does not currently take into account all the packages that are installed. This behaviour is the source of the following dependency conflicts.\n",
      "torchtext 0.13.1 requires torch==1.12.1, but you have torch 1.10.1+cu111 which is incompatible.\n",
      "torchaudio 0.12.1+cu113 requires torch==1.12.1, but you have torch 1.10.1+cu111 which is incompatible.\u001B[0m\n",
      "Successfully installed torch-1.10.1+cu111 torchvision-0.11.2+cu111\n",
      "Looking in indexes: https://pypi.org/simple, https://us-python.pkg.dev/colab-wheels/public/simple/\n",
      "Looking in links: https://dl.fbaipublicfiles.com/detectron2/wheels/cu111/torch1.10/index.html\n",
      "Collecting detectron2\n",
      "  Downloading https://dl.fbaipublicfiles.com/detectron2/wheels/cu111/torch1.10/detectron2-0.6%2Bcu111-cp38-cp38-linux_x86_64.whl (7.0 MB)\n",
      "\u001B[K     |████████████████████████████████| 7.0 MB 798 kB/s \n",
      "\u001B[?25hRequirement already satisfied: termcolor>=1.1 in /usr/local/lib/python3.8/dist-packages (from detectron2) (2.1.1)\n",
      "Requirement already satisfied: iopath<0.1.10,>=0.1.7 in /usr/local/lib/python3.8/dist-packages (from detectron2) (0.1.9)\n",
      "Requirement already satisfied: pycocotools>=2.0.2 in /usr/local/lib/python3.8/dist-packages (from detectron2) (2.0.6)\n",
      "Requirement already satisfied: tqdm>4.29.0 in /usr/local/lib/python3.8/dist-packages (from detectron2) (4.64.1)\n",
      "Collecting hydra-core>=1.1\n",
      "  Downloading hydra_core-1.2.0-py3-none-any.whl (151 kB)\n",
      "\u001B[K     |████████████████████████████████| 151 kB 7.1 MB/s \n",
      "\u001B[?25hRequirement already satisfied: matplotlib in /usr/local/lib/python3.8/dist-packages (from detectron2) (3.2.2)\n",
      "Requirement already satisfied: yacs>=0.1.8 in /usr/local/lib/python3.8/dist-packages (from detectron2) (0.1.8)\n",
      "Requirement already satisfied: pydot in /usr/local/lib/python3.8/dist-packages (from detectron2) (1.3.0)\n",
      "Collecting black==21.4b2\n",
      "  Downloading black-21.4b2-py3-none-any.whl (130 kB)\n",
      "\u001B[K     |████████████████████████████████| 130 kB 65.5 MB/s \n",
      "\u001B[?25hRequirement already satisfied: tabulate in /usr/local/lib/python3.8/dist-packages (from detectron2) (0.8.9)\n",
      "Requirement already satisfied: Pillow>=7.1 in /usr/local/lib/python3.8/dist-packages (from detectron2) (7.1.2)\n",
      "Requirement already satisfied: future in /usr/local/lib/python3.8/dist-packages (from detectron2) (0.16.0)\n",
      "Collecting omegaconf>=2.1\n",
      "  Downloading omegaconf-2.2.3-py3-none-any.whl (79 kB)\n",
      "\u001B[K     |████████████████████████████████| 79 kB 8.6 MB/s \n",
      "\u001B[?25hRequirement already satisfied: tensorboard in /usr/local/lib/python3.8/dist-packages (from detectron2) (2.9.1)\n",
      "Requirement already satisfied: cloudpickle in /usr/local/lib/python3.8/dist-packages (from detectron2) (1.5.0)\n",
      "Collecting fvcore<0.1.6,>=0.1.5\n",
      "  Downloading fvcore-0.1.5.post20221122.tar.gz (50 kB)\n",
      "\u001B[K     |████████████████████████████████| 50 kB 7.5 MB/s \n",
      "\u001B[?25hRequirement already satisfied: toml>=0.10.1 in /usr/local/lib/python3.8/dist-packages (from black==21.4b2->detectron2) (0.10.2)\n",
      "Requirement already satisfied: regex>=2020.1.8 in /usr/local/lib/python3.8/dist-packages (from black==21.4b2->detectron2) (2022.6.2)\n",
      "Requirement already satisfied: click>=7.1.2 in /usr/local/lib/python3.8/dist-packages (from black==21.4b2->detectron2) (7.1.2)\n",
      "Collecting mypy-extensions>=0.4.3\n",
      "  Downloading mypy_extensions-0.4.3-py2.py3-none-any.whl (4.5 kB)\n",
      "Collecting pathspec<1,>=0.8.1\n",
      "  Downloading pathspec-0.10.2-py3-none-any.whl (28 kB)\n",
      "Requirement already satisfied: appdirs in /usr/local/lib/python3.8/dist-packages (from black==21.4b2->detectron2) (1.4.4)\n",
      "Requirement already satisfied: numpy in /usr/local/lib/python3.8/dist-packages (from fvcore<0.1.6,>=0.1.5->detectron2) (1.19.5)\n",
      "Requirement already satisfied: pyyaml>=5.1 in /usr/local/lib/python3.8/dist-packages (from fvcore<0.1.6,>=0.1.5->detectron2) (5.1)\n",
      "Requirement already satisfied: packaging in /usr/local/lib/python3.8/dist-packages (from hydra-core>=1.1->detectron2) (21.3)\n",
      "Requirement already satisfied: importlib-resources in /usr/local/lib/python3.8/dist-packages (from hydra-core>=1.1->detectron2) (5.10.0)\n",
      "Collecting antlr4-python3-runtime==4.9.*\n",
      "  Downloading antlr4-python3-runtime-4.9.3.tar.gz (117 kB)\n",
      "\u001B[K     |████████████████████████████████| 117 kB 42.6 MB/s \n",
      "\u001B[?25hRequirement already satisfied: portalocker in /usr/local/lib/python3.8/dist-packages (from iopath<0.1.10,>=0.1.7->detectron2) (2.6.0)\n",
      "Requirement already satisfied: python-dateutil>=2.1 in /usr/local/lib/python3.8/dist-packages (from matplotlib->detectron2) (2.8.2)\n",
      "Requirement already satisfied: kiwisolver>=1.0.1 in /usr/local/lib/python3.8/dist-packages (from matplotlib->detectron2) (1.4.4)\n",
      "Requirement already satisfied: pyparsing!=2.0.4,!=2.1.2,!=2.1.6,>=2.0.1 in /usr/local/lib/python3.8/dist-packages (from matplotlib->detectron2) (3.0.9)\n",
      "Requirement already satisfied: cycler>=0.10 in /usr/local/lib/python3.8/dist-packages (from matplotlib->detectron2) (0.11.0)\n",
      "Requirement already satisfied: six>=1.5 in /usr/local/lib/python3.8/dist-packages (from python-dateutil>=2.1->matplotlib->detectron2) (1.15.0)\n",
      "Requirement already satisfied: zipp>=3.1.0 in /usr/local/lib/python3.8/dist-packages (from importlib-resources->hydra-core>=1.1->detectron2) (3.10.0)\n",
      "Requirement already satisfied: tensorboard-plugin-wit>=1.6.0 in /usr/local/lib/python3.8/dist-packages (from tensorboard->detectron2) (1.8.1)\n",
      "Requirement already satisfied: absl-py>=0.4 in /usr/local/lib/python3.8/dist-packages (from tensorboard->detectron2) (1.3.0)\n",
      "Requirement already satisfied: requests<3,>=2.21.0 in /usr/local/lib/python3.8/dist-packages (from tensorboard->detectron2) (2.23.0)\n",
      "Requirement already satisfied: wheel>=0.26 in /usr/local/lib/python3.8/dist-packages (from tensorboard->detectron2) (0.38.4)\n",
      "Requirement already satisfied: setuptools>=41.0.0 in /usr/local/lib/python3.8/dist-packages (from tensorboard->detectron2) (57.4.0)\n",
      "Requirement already satisfied: protobuf<3.20,>=3.9.2 in /usr/local/lib/python3.8/dist-packages (from tensorboard->detectron2) (3.19.6)\n",
      "Requirement already satisfied: markdown>=2.6.8 in /usr/local/lib/python3.8/dist-packages (from tensorboard->detectron2) (3.4.1)\n",
      "Requirement already satisfied: tensorboard-data-server<0.7.0,>=0.6.0 in /usr/local/lib/python3.8/dist-packages (from tensorboard->detectron2) (0.6.1)\n",
      "Requirement already satisfied: google-auth-oauthlib<0.5,>=0.4.1 in /usr/local/lib/python3.8/dist-packages (from tensorboard->detectron2) (0.4.6)\n",
      "Requirement already satisfied: google-auth<3,>=1.6.3 in /usr/local/lib/python3.8/dist-packages (from tensorboard->detectron2) (2.14.1)\n",
      "Requirement already satisfied: grpcio>=1.24.3 in /usr/local/lib/python3.8/dist-packages (from tensorboard->detectron2) (1.50.0)\n",
      "Requirement already satisfied: werkzeug>=1.0.1 in /usr/local/lib/python3.8/dist-packages (from tensorboard->detectron2) (1.0.1)\n",
      "Requirement already satisfied: pyasn1-modules>=0.2.1 in /usr/local/lib/python3.8/dist-packages (from google-auth<3,>=1.6.3->tensorboard->detectron2) (0.2.8)\n",
      "Requirement already satisfied: rsa<5,>=3.1.4 in /usr/local/lib/python3.8/dist-packages (from google-auth<3,>=1.6.3->tensorboard->detectron2) (4.9)\n",
      "Requirement already satisfied: cachetools<6.0,>=2.0.0 in /usr/local/lib/python3.8/dist-packages (from google-auth<3,>=1.6.3->tensorboard->detectron2) (5.2.0)\n",
      "Requirement already satisfied: requests-oauthlib>=0.7.0 in /usr/local/lib/python3.8/dist-packages (from google-auth-oauthlib<0.5,>=0.4.1->tensorboard->detectron2) (1.3.1)\n",
      "Requirement already satisfied: importlib-metadata>=4.4 in /usr/local/lib/python3.8/dist-packages (from markdown>=2.6.8->tensorboard->detectron2) (4.13.0)\n",
      "Requirement already satisfied: pyasn1<0.5.0,>=0.4.6 in /usr/local/lib/python3.8/dist-packages (from pyasn1-modules>=0.2.1->google-auth<3,>=1.6.3->tensorboard->detectron2) (0.4.8)\n",
      "Requirement already satisfied: certifi>=2017.4.17 in /usr/local/lib/python3.8/dist-packages (from requests<3,>=2.21.0->tensorboard->detectron2) (2022.9.24)\n",
      "Requirement already satisfied: chardet<4,>=3.0.2 in /usr/local/lib/python3.8/dist-packages (from requests<3,>=2.21.0->tensorboard->detectron2) (3.0.4)\n",
      "Requirement already satisfied: urllib3!=1.25.0,!=1.25.1,<1.26,>=1.21.1 in /usr/local/lib/python3.8/dist-packages (from requests<3,>=2.21.0->tensorboard->detectron2) (1.24.3)\n",
      "Requirement already satisfied: idna<3,>=2.5 in /usr/local/lib/python3.8/dist-packages (from requests<3,>=2.21.0->tensorboard->detectron2) (2.10)\n",
      "Requirement already satisfied: oauthlib>=3.0.0 in /usr/local/lib/python3.8/dist-packages (from requests-oauthlib>=0.7.0->google-auth-oauthlib<0.5,>=0.4.1->tensorboard->detectron2) (3.2.2)\n",
      "Building wheels for collected packages: fvcore, antlr4-python3-runtime\n",
      "  Building wheel for fvcore (setup.py) ... \u001B[?25l\u001B[?25hdone\n",
      "  Created wheel for fvcore: filename=fvcore-0.1.5.post20221122-py3-none-any.whl size=61484 sha256=2330ad55d6a08ac6604c9c3f8e2550fd994f5fcca45cf104a23ef48bcd21fe7f\n",
      "  Stored in directory: /root/.cache/pip/wheels/15/6e/e3/602889ca9c5c55020f8d205066445ac5b1b96df59f75170ca0\n",
      "  Building wheel for antlr4-python3-runtime (setup.py) ... \u001B[?25l\u001B[?25hdone\n",
      "  Created wheel for antlr4-python3-runtime: filename=antlr4_python3_runtime-4.9.3-py3-none-any.whl size=144575 sha256=cbde41784b2d180ba1a9fb7f8259591b7ce2b1bee9718abc77cecd0db2ef96fc\n",
      "  Stored in directory: /root/.cache/pip/wheels/b1/a3/c2/6df046c09459b73cc9bb6c4401b0be6c47048baf9a1617c485\n",
      "Successfully built fvcore antlr4-python3-runtime\n",
      "Installing collected packages: antlr4-python3-runtime, pathspec, omegaconf, mypy-extensions, hydra-core, fvcore, black, detectron2\n",
      "  Attempting uninstall: antlr4-python3-runtime\n",
      "    Found existing installation: antlr4-python3-runtime 4.8\n",
      "    Uninstalling antlr4-python3-runtime-4.8:\n",
      "      Successfully uninstalled antlr4-python3-runtime-4.8\n",
      "  Attempting uninstall: omegaconf\n",
      "    Found existing installation: omegaconf 2.0.6\n",
      "    Uninstalling omegaconf-2.0.6:\n",
      "      Successfully uninstalled omegaconf-2.0.6\n",
      "  Attempting uninstall: hydra-core\n",
      "    Found existing installation: hydra-core 1.0.7\n",
      "    Uninstalling hydra-core-1.0.7:\n",
      "      Successfully uninstalled hydra-core-1.0.7\n",
      "  Attempting uninstall: fvcore\n",
      "    Found existing installation: fvcore 0.1.3.post20210317\n",
      "    Uninstalling fvcore-0.1.3.post20210317:\n",
      "      Successfully uninstalled fvcore-0.1.3.post20210317\n",
      "  Attempting uninstall: black\n",
      "    Found existing installation: black 19.3b0\n",
      "    Uninstalling black-19.3b0:\n",
      "      Successfully uninstalled black-19.3b0\n",
      "\u001B[31mERROR: pip's dependency resolver does not currently take into account all the packages that are installed. This behaviour is the source of the following dependency conflicts.\n",
      "vissl 0.1.6 requires fvcore==0.1.3.post20210317, but you have fvcore 0.1.5.post20221122 which is incompatible.\n",
      "vissl 0.1.6 requires hydra-core==1.0.7, but you have hydra-core 1.2.0 which is incompatible.\u001B[0m\n",
      "Successfully installed antlr4-python3-runtime-4.9.3 black-21.4b2 detectron2-0.6+cu111 fvcore-0.1.5.post20221122 hydra-core-1.2.0 mypy-extensions-0.4.3 omegaconf-2.2.3 pathspec-0.10.2\n"
     ]
    },
    {
     "output_type": "display_data",
     "data": {
      "application/vnd.colab-display-data+json": {
       "pip_warning": {
        "packages": [
         "pydevd_plugins"
        ]
       }
      }
     },
     "metadata": {}
    },
    {
     "output_type": "stream",
     "name": "stdout",
     "text": [
      "Looking in indexes: https://pypi.org/simple, https://us-python.pkg.dev/colab-wheels/public/simple/\n",
      "Collecting pytorchvideo\n",
      "  Downloading pytorchvideo-0.1.5.tar.gz (132 kB)\n",
      "\u001B[K     |████████████████████████████████| 132 kB 9.9 MB/s \n",
      "\u001B[?25hRequirement already satisfied: fvcore in /usr/local/lib/python3.8/dist-packages (from pytorchvideo) (0.1.5.post20221122)\n",
      "Collecting av\n",
      "  Downloading av-10.0.0-cp38-cp38-manylinux_2_17_x86_64.manylinux2014_x86_64.whl (31.4 MB)\n",
      "\u001B[K     |████████████████████████████████| 31.4 MB 1.2 MB/s \n",
      "\u001B[?25hRequirement already satisfied: parameterized in /usr/local/lib/python3.8/dist-packages (from pytorchvideo) (0.7.4)\n",
      "Requirement already satisfied: iopath in /usr/local/lib/python3.8/dist-packages (from pytorchvideo) (0.1.9)\n",
      "Requirement already satisfied: networkx in /usr/local/lib/python3.8/dist-packages (from pytorchvideo) (2.6.3)\n",
      "Requirement already satisfied: tqdm in /usr/local/lib/python3.8/dist-packages (from fvcore->pytorchvideo) (4.64.1)\n",
      "Requirement already satisfied: tabulate in /usr/local/lib/python3.8/dist-packages (from fvcore->pytorchvideo) (0.8.9)\n",
      "Requirement already satisfied: numpy in /usr/local/lib/python3.8/dist-packages (from fvcore->pytorchvideo) (1.19.5)\n",
      "Requirement already satisfied: Pillow in /usr/local/lib/python3.8/dist-packages (from fvcore->pytorchvideo) (7.1.2)\n",
      "Requirement already satisfied: pyyaml>=5.1 in /usr/local/lib/python3.8/dist-packages (from fvcore->pytorchvideo) (5.1)\n",
      "Requirement already satisfied: yacs>=0.1.6 in /usr/local/lib/python3.8/dist-packages (from fvcore->pytorchvideo) (0.1.8)\n",
      "Requirement already satisfied: termcolor>=1.1 in /usr/local/lib/python3.8/dist-packages (from fvcore->pytorchvideo) (2.1.1)\n",
      "Requirement already satisfied: portalocker in /usr/local/lib/python3.8/dist-packages (from iopath->pytorchvideo) (2.6.0)\n",
      "Building wheels for collected packages: pytorchvideo\n",
      "  Building wheel for pytorchvideo (setup.py) ... \u001B[?25l\u001B[?25hdone\n",
      "  Created wheel for pytorchvideo: filename=pytorchvideo-0.1.5-py3-none-any.whl size=188715 sha256=4cbdf272cd889b1a141576f395b2b16c3c39f75a1cdcca182f315fcc29f85354\n",
      "  Stored in directory: /root/.cache/pip/wheels/84/62/e5/0b41f2deb978f449ba3efb4bb24efd6962e4b6abb1fae544ee\n",
      "Successfully built pytorchvideo\n",
      "Installing collected packages: av, pytorchvideo\n",
      "Successfully installed av-10.0.0 pytorchvideo-0.1.5\n",
      "Looking in indexes: https://pypi.org/simple, https://us-python.pkg.dev/colab-wheels/public/simple/\n",
      "Collecting torchextractor\n",
      "  Downloading torchextractor-0.3.0-py3-none-any.whl (10 kB)\n",
      "Requirement already satisfied: torch>=1.4.0 in /usr/local/lib/python3.8/dist-packages (from torchextractor) (1.10.1+cu111)\n",
      "Requirement already satisfied: numpy in /usr/local/lib/python3.8/dist-packages (from torchextractor) (1.19.5)\n",
      "Requirement already satisfied: typing-extensions in /usr/local/lib/python3.8/dist-packages (from torch>=1.4.0->torchextractor) (4.1.1)\n",
      "Installing collected packages: torchextractor\n",
      "Successfully installed torchextractor-0.3.0\n",
      "Looking in indexes: https://pypi.org/simple, https://us-python.pkg.dev/colab-wheels/public/simple/\n",
      "Requirement already satisfied: opencv-python in /usr/local/lib/python3.8/dist-packages (4.6.0.66)\n",
      "Requirement already satisfied: numpy>=1.17.3 in /usr/local/lib/python3.8/dist-packages (from opencv-python) (1.19.5)\n",
      "Looking in indexes: https://pypi.org/simple, https://us-python.pkg.dev/colab-wheels/public/simple/\n",
      "Collecting rsatoolbox\n",
      "  Downloading rsatoolbox-0.0.5-cp38-cp38-manylinux_2_17_x86_64.manylinux2014_x86_64.whl (643 kB)\n",
      "\u001B[K     |████████████████████████████████| 643 kB 9.8 MB/s \n",
      "\u001B[?25hCollecting numpy>=1.21.2\n",
      "  Downloading numpy-1.23.5-cp38-cp38-manylinux_2_17_x86_64.manylinux2014_x86_64.whl (17.1 MB)\n",
      "\u001B[K     |████████████████████████████████| 17.1 MB 50.3 MB/s \n",
      "\u001B[?25hRequirement already satisfied: scipy in /usr/local/lib/python3.8/dist-packages (from rsatoolbox) (1.7.3)\n",
      "Requirement already satisfied: h5py in /usr/local/lib/python3.8/dist-packages (from rsatoolbox) (3.1.0)\n",
      "Requirement already satisfied: matplotlib in /usr/local/lib/python3.8/dist-packages (from rsatoolbox) (3.2.2)\n",
      "Requirement already satisfied: pandas in /usr/local/lib/python3.8/dist-packages (from rsatoolbox) (1.3.5)\n",
      "Requirement already satisfied: scikit-learn in /usr/local/lib/python3.8/dist-packages (from rsatoolbox) (0.24.1)\n",
      "Requirement already satisfied: tqdm in /usr/local/lib/python3.8/dist-packages (from rsatoolbox) (4.64.1)\n",
      "Collecting coverage\n",
      "  Downloading coverage-6.5.0-cp38-cp38-manylinux_2_5_x86_64.manylinux1_x86_64.manylinux_2_17_x86_64.manylinux2014_x86_64.whl (214 kB)\n",
      "\u001B[K     |████████████████████████████████| 214 kB 57.9 MB/s \n",
      "\u001B[?25hRequirement already satisfied: joblib in /usr/local/lib/python3.8/dist-packages (from rsatoolbox) (1.2.0)\n",
      "Requirement already satisfied: scikit-image in /usr/local/lib/python3.8/dist-packages (from rsatoolbox) (0.18.3)\n",
      "Requirement already satisfied: cycler>=0.10 in /usr/local/lib/python3.8/dist-packages (from matplotlib->rsatoolbox) (0.11.0)\n",
      "Requirement already satisfied: pyparsing!=2.0.4,!=2.1.2,!=2.1.6,>=2.0.1 in /usr/local/lib/python3.8/dist-packages (from matplotlib->rsatoolbox) (3.0.9)\n",
      "Requirement already satisfied: python-dateutil>=2.1 in /usr/local/lib/python3.8/dist-packages (from matplotlib->rsatoolbox) (2.8.2)\n",
      "Requirement already satisfied: kiwisolver>=1.0.1 in /usr/local/lib/python3.8/dist-packages (from matplotlib->rsatoolbox) (1.4.4)\n",
      "Requirement already satisfied: six>=1.5 in /usr/local/lib/python3.8/dist-packages (from python-dateutil>=2.1->matplotlib->rsatoolbox) (1.15.0)\n",
      "Requirement already satisfied: pytz>=2017.3 in /usr/local/lib/python3.8/dist-packages (from pandas->rsatoolbox) (2022.6)\n",
      "Requirement already satisfied: tifffile>=2019.7.26 in /usr/local/lib/python3.8/dist-packages (from scikit-image->rsatoolbox) (2021.11.2)\n",
      "Requirement already satisfied: pillow!=7.1.0,!=7.1.1,>=4.3.0 in /usr/local/lib/python3.8/dist-packages (from scikit-image->rsatoolbox) (7.1.2)\n",
      "Requirement already satisfied: networkx>=2.0 in /usr/local/lib/python3.8/dist-packages (from scikit-image->rsatoolbox) (2.6.3)\n",
      "Requirement already satisfied: imageio>=2.3.0 in /usr/local/lib/python3.8/dist-packages (from scikit-image->rsatoolbox) (2.9.0)\n",
      "Requirement already satisfied: PyWavelets>=1.1.1 in /usr/local/lib/python3.8/dist-packages (from scikit-image->rsatoolbox) (1.3.0)\n",
      "Collecting numpy>=1.21.2\n",
      "  Downloading numpy-1.22.4-cp38-cp38-manylinux_2_17_x86_64.manylinux2014_x86_64.whl (16.9 MB)\n",
      "\u001B[K     |████████████████████████████████| 16.9 MB 53.5 MB/s \n",
      "\u001B[?25hRequirement already satisfied: threadpoolctl>=2.0.0 in /usr/local/lib/python3.8/dist-packages (from scikit-learn->rsatoolbox) (3.1.0)\n",
      "Installing collected packages: numpy, coverage, rsatoolbox\n",
      "  Attempting uninstall: numpy\n",
      "    Found existing installation: numpy 1.19.5\n",
      "    Uninstalling numpy-1.19.5:\n",
      "      Successfully uninstalled numpy-1.19.5\n",
      "\u001B[31mERROR: pip's dependency resolver does not currently take into account all the packages that are installed. This behaviour is the source of the following dependency conflicts.\n",
      "yellowbrick 1.5 requires scikit-learn>=1.0.0, but you have scikit-learn 0.24.1 which is incompatible.\n",
      "torchtext 0.13.1 requires torch==1.12.1, but you have torch 1.10.1+cu111 which is incompatible.\n",
      "vissl 0.1.6 requires fvcore==0.1.3.post20210317, but you have fvcore 0.1.5.post20221122 which is incompatible.\n",
      "vissl 0.1.6 requires hydra-core==1.0.7, but you have hydra-core 1.2.0 which is incompatible.\n",
      "vissl 0.1.6 requires numpy==1.19.5, but you have numpy 1.22.4 which is incompatible.\u001B[0m\n",
      "Successfully installed coverage-6.5.0 numpy-1.22.4 rsatoolbox-0.0.5\n"
     ]
    },
    {
     "output_type": "display_data",
     "data": {
      "application/vnd.colab-display-data+json": {
       "pip_warning": {
        "packages": [
         "numpy"
        ]
       }
      }
     },
     "metadata": {}
    }
   ],
   "source": [
    "# FOR TASKONOMY\n",
    "!pip install visualpriors\n",
    "\n",
    "# FOR CORNET\n",
    "!pip install git+https://github.com/dicarlolab/CORnet\n",
    "\n",
    "#FOR CLIP\n",
    "!pip install ftfy regex tqdm\n",
    "!pip install git+https://github.com/openai/CLIP.git\n",
    "\n",
    "\n",
    "#FOR VISSL\n",
    "!git clone --recursive https://github.com/facebookresearch/vissl.git\n",
    "%cd vissl/\n",
    "!git checkout v0.1.6\n",
    "!git checkout -b v0.1.6\n",
    "!pip install --progress-bar off -r requirements.txt\n",
    "!pip install opencv-python\n",
    "!pip uninstall -y classy_vision\n",
    "!pip install classy-vision@https://github.com/facebookresearch/ClassyVision/tarball/4785d5ee19d3bcedd5b28c1eb51ea1f59188b54d\n",
    "!pip uninstall -y fairscale\n",
    "!pip install fairscale@https://github.com/facebookresearch/fairscale/tarball/df7db85cef7f9c30a5b821007754b96eb1f977b6\n",
    "!pip install -e .[dev]\n",
    "\n",
    "# FOR TIMM\n",
    "!pip install timm\n",
    "\n",
    "# FOR DETECTRON\n",
    "!pip install pyyaml==5.1\n",
    "!pip uninstall torch -y\n",
    "!pip uninstall torchvision -y\n",
    "!pip install torch==1.10.1+cu111 torchvision==0.11.2+cu111 -f https://download.pytorch.org/whl/torch_stable.html\n",
    "import torch\n",
    "TORCH_VERSION = \".\".join(torch.__version__.split(\".\")[:2])\n",
    "CUDA_VERSION = torch.__version__.split(\"+\")[-1]\n",
    "!pip install detectron2 -f https://dl.fbaipublicfiles.com/detectron2/wheels/$CUDA_VERSION/torch$TORCH_VERSION/index.html\n",
    "\n",
    "# FOR VIDEOMODELS\n",
    "!pip install pytorchvideo\n",
    "\n",
    "#other packages\n",
    "!pip install torchextractor\n",
    "!pip install opencv-python\n",
    "!pip install rsatoolbox\n"
   ]
  },
  {
   "cell_type": "markdown",
   "metadata": {
    "id": "qSiPkmI1Tk9j"
   },
   "source": [
    "These dependencies enable the usage of the models:\n",
    "\n",
    "\n",
    "* Standard (54)\n",
    "* timm (426)\n",
    "* pytorch (6)\n",
    "* unet (1)\n",
    "* taskonomy (23)\n",
    "* pyvideo (6)\n",
    "* detectron2 (50)\n",
    "* vissl (28)\n",
    "* clip (5)\n",
    "* cornet (3)\n",
    "\n",
    "\n",
    "\n",
    "\n"
   ]
  },
  {
   "cell_type": "markdown",
   "metadata": {
    "id": "MGlMSZ8DU5vj"
   },
   "source": [
    "# **Step three:**\n",
    "**First restart the runtime!**\n",
    "Then run this cell to start the UI\n",
    "\n",
    "**Note:** I advise to use the gui for evaluation purposes. The evaluation works fine on colab but it is easier to handle over the gui. Colab is insisted to be used for fast calculation of the features and RDMS. \n"
   ]
  },
  {
   "cell_type": "markdown",
   "source": [
    "### Remove the test videos:"
   ],
   "metadata": {
    "id": "2R4QF4hpNx2o"
   }
  },
  {
   "cell_type": "code",
   "source": [
    "import pandas as pd\n",
    "import os\n",
    "\n",
    "df_key = pd.read_csv(\"/content/rsatoolbox/train.csv\")\n",
    "counter = 0\n",
    "dir = \"/content/rsatoolbox/input_data/stimuli_data/3SecVideos\"\n",
    "\n",
    "for filename in os.listdir(dir):\n",
    "    if filename not in df_key.video_name.to_list():\n",
    "        os.remove(dir + \"/\" + filename)\n",
    "        print(\"Removed \" + str(filename))\n",
    "        counter += 1\n",
    "print(str(counter) + \" test files removed.\")"
   ],
   "metadata": {
    "colab": {
     "base_uri": "https://localhost:8080/"
    },
    "id": "_YYwI2oNN2mf",
    "outputId": "6c712bbc-ef62-442b-c84f-e27fe70d60ad"
   },
   "execution_count": 7,
   "outputs": [
    {
     "output_type": "stream",
     "name": "stdout",
     "text": [
      "Removed yt-S0dAccaitok_119.mp4\n",
      "Removed flickr-7-8-4-4-1-9-1-7-2878441917_1.mp4\n",
      "Removed flickr-9-3-0-5-5-4-4-2-3593055442_11.mp4\n",
      "Removed yt-F0Ede8UiICQ_38.mp4\n",
      "Removed yt-cs7e8XeuSGw_61.mp4\n",
      "Removed yt-2dK-i-Ie1Yg_68.mp4\n",
      "Removed yt-a9HzBJRWEJw_101.mp4\n",
      "Removed yt-0QzC8ORgZlM_35.mp4\n",
      "Removed yt-Hdv-QIhFago_254.mp4\n",
      "Removed yt-AXeXiTb9ntA_162.mp4\n",
      "Removed yt-UdFXugWdS94_32.mp4\n",
      "Removed yt-hhmiJzI5caA_52.mp4\n",
      "Removed vine-Nononononono-twerking-weird-clapping-no-Kevin-Marshall-hHqMIJdWz7E_3.mp4\n",
      "Removed flickr-2-3-8-6-9-3-6-0-2823869360_23.mp4\n",
      "Removed yt-gknOwYMSbPs_2.mp4\n",
      "Removed flickr-2-1-6-6-7-1-1-2-16621667112_15.mp4\n",
      "Removed flickr-0-6-1-2-0-7-8-4-4606120784_26.mp4\n",
      "Removed yt-1icEOZdgkVY_35.mp4\n",
      "Removed flickr-7-9-6-9-9-2-6-7-5479699267_3.mp4\n",
      "Removed yt-4GeYyT0lwQ0_20.mp4\n",
      "Removed flickr-5-7-2-8-0-0-7-2-3957280072_16.mp4\n",
      "Removed yt-NQKRncc6YX8_35.mp4\n",
      "Removed yt-7we4oftPEXo_245.mp4\n",
      "Removed flickr-8-3-1-6897055831_10.mp4\n",
      "Removed flickr-2-0-5-7-0-2-3-3-4720570233_26.mp4\n",
      "Removed yt-iW8qXrKxfsk_18.mp4\n",
      "Removed yt-uFP2jKxjIwo_718.mp4\n",
      "Removed yt-dUQG4COAK54_46.mp4\n",
      "Removed yt-1iRW2U2jNPA_888.mp4\n",
      "Removed yt-MMycfMcM9oM_297.mp4\n",
      "Removed flickr-1-1-2-0-2-4-6-6-7211202466_8.mp4\n",
      "Removed yt-lMvo3DnAz2I_37.mp4\n",
      "Removed yt-M1ZSKh7JbQQ_36.mp4\n",
      "Removed yt-2Joztxgo5Sw_180.mp4\n",
      "Removed yt-5K_c4LG7CEE_35.mp4\n",
      "Removed yt-gvcE-VktSSg_23.mp4\n",
      "Removed yt-TUdnj4CVFmQ_416.mp4\n",
      "Removed flickr-5-2-4-7-4-1-5-5-6952474155_71.mp4\n",
      "Removed yt-O2JT20EG6yI_111.mp4\n",
      "Removed flickr-9-3-2-2-7-4-6-7-4593227467_2.mp4\n",
      "Removed yt-V9hKfvFLDQo_816.mp4\n",
      "Removed 3PJaYWt0cws_5.mp4\n",
      "Removed flickr-4-7-1-4-7-6-4-0-2447147640_28.mp4\n",
      "Removed yt-9R3WOWjYHMs_3.mp4\n",
      "Removed flickr-7-3-3-1-0-7-1-8-2773310718_8.mp4\n",
      "Removed yt-0IxYqinsuz8_7.mp4\n",
      "Removed yt-rjfxunCrhMk_6.mp4\n",
      "Removed yt-K2Ysv5Y6tYo_297.mp4\n",
      "Removed yt-iHn1BwC1p1I_31.mp4\n",
      "Removed 9hlyu-wDkg4_4.mp4\n",
      "50 test files removed.\n"
     ]
    }
   ]
  },
  {
   "cell_type": "code",
   "execution_count": null,
   "metadata": {
    "colab": {
     "base_uri": "https://localhost:8080/",
     "height": 1000,
     "referenced_widgets": [
      "50bb34428b414687a4ad1281ba05b889",
      "63194a38e3874e0bb0fe9a04c85067f6",
      "eaa9e26626384c5493de476f49e4ce76",
      "17c15cba93ee47e49a79c01fb33bdacb",
      "b0f082c0b6634084adc5580014cfd377",
      "d4d51d8bc0db47839c10ffb2def88a11",
      "448801ce7bf34eae8332134496d4556e",
      "61121720d3d247c69373fd6b2b954cca",
      "bf1ee64c950c4d07899c83a5a8c31852",
      "7efb88fb43ff4e0d80c28dd16f4e8961",
      "b2769e5a6e6c4caf9f335b83f6593605"
     ]
    },
    "id": "hHP2XTVmU37K",
    "outputId": "9c289a78-f615-421f-9e95-d60741617f44"
   },
   "outputs": [
    {
     "name": "stdout",
     "output_type": "stream",
     "text": [
      "/content/rsatoolbox/net2brain\n",
      "\n",
      "-----------------------------\n",
      "What do you want to do?\n",
      "-----------------------------\n",
      "\n",
      "+--------+-------------------+\n",
      "| Number | Option            |\n",
      "+--------+-------------------+\n",
      "|  (1)   | Generate Features |\n",
      "|  (2)   | Create RDMs       |\n",
      "|  (3)   | Evaluation        |\n",
      "|  (4)   | exit              |\n",
      "+--------+-------------------+\n",
      "(Press 'n' to go back)\n",
      "1\n",
      "\n",
      "-----------------------------\n",
      "Which Data-Set:\n",
      "-----------------------------\n",
      "\n",
      "+--------+-------------+\n",
      "| Number | Data-Set    |\n",
      "+--------+-------------+\n",
      "|  (1)   | 3SecVideos  |\n",
      "|  (2)   | 78images    |\n",
      "|  (3)   | EmaliesData |\n",
      "|  (4)   | 92images    |\n",
      "+--------+-------------+\n",
      "(Press 'n' to go back)\n",
      "1\n",
      "\n",
      "-----------------------------\n",
      "Enter Network Number from:\n",
      "-----------------------------\n",
      "\n",
      "+--------+-----------------+\n",
      "| Number | Network-Set     |\n",
      "+--------+-----------------+\n",
      "|  (1)   | standard (54)   |\n",
      "|  (2)   | timm (426)      |\n",
      "|  (3)   | pytorch (6)     |\n",
      "|  (4)   | unet (1)        |\n",
      "|  (5)   | taskonomy (23)  |\n",
      "|  (6)   | pyvideo (6)     |\n",
      "|  (7)   | detectron2 (50) |\n",
      "|  (8)   | vissl (28)      |\n",
      "|  (9)   | clip (5)        |\n",
      "|  (10)  | cornet (3)      |\n",
      "+--------+-----------------+\n",
      "(Press 'n' to go back)\n",
      "1\n",
      "\n",
      "-----------------------------\n",
      "Enter standard (54)-Network Number from:\n",
      "-----------------------------\n",
      "\n",
      "+--------+--------------------+\n",
      "| Number | Network            |\n",
      "+--------+--------------------+\n",
      "|  (1)   | AlexNet            |\n",
      "|  (2)   | ResNet18           |\n",
      "|  (3)   | ResNet34           |\n",
      "|  (4)   | ResNet50           |\n",
      "|  (5)   | ResNet101          |\n",
      "|  (6)   | ResNet152          |\n",
      "|  (7)   | Squeezenet1_0      |\n",
      "|  (8)   | Squeezenet1_1      |\n",
      "|  (9)   | VGG11              |\n",
      "|  (10)  | VGG11_bn           |\n",
      "|  (11)  | VGG13              |\n",
      "|  (12)  | VGG13_bn           |\n",
      "|  (13)  | VGG16              |\n",
      "|  (14)  | VGG16_bn           |\n",
      "|  (15)  | VGG19              |\n",
      "|  (16)  | VGG19_bn           |\n",
      "|  (17)  | Densenet121        |\n",
      "|  (18)  | Densenet161        |\n",
      "|  (19)  | Densenet169        |\n",
      "|  (20)  | Densenet201        |\n",
      "|  (21)  | GoogleNet          |\n",
      "|  (22)  | ShuffleNetV2x05    |\n",
      "|  (23)  | ShuffleNetV2x10    |\n",
      "|  (24)  | mobilenet_v2       |\n",
      "|  (25)  | mobilenet_v3_large |\n",
      "|  (26)  | mobilenet_v3_small |\n",
      "|  (27)  | resnext50_32x4d    |\n",
      "|  (28)  | resnext101_32x8d   |\n",
      "|  (29)  | wide_resnet101_2   |\n",
      "|  (30)  | wide_resnet50_2    |\n",
      "|  (31)  | mnasnet05          |\n",
      "|  (32)  | mnasnet10          |\n",
      "|  (33)  | efficientnet_b0    |\n",
      "|  (34)  | efficientnet_b1    |\n",
      "|  (35)  | efficientnet_b2    |\n",
      "|  (36)  | efficientnet_b3    |\n",
      "|  (37)  | efficientnet_b4    |\n",
      "|  (38)  | efficientnet_b5    |\n",
      "|  (39)  | efficientnet_b6    |\n",
      "|  (40)  | efficientnet_b7    |\n",
      "|  (41)  | regnet_y_400mf     |\n",
      "|  (42)  | regnet_y_800mf     |\n",
      "|  (43)  | regnet_y_1_6gf     |\n",
      "|  (44)  | regnet_y_3_2gf     |\n",
      "|  (45)  | regnet_y_8gf       |\n",
      "|  (46)  | regnet_y_16gf      |\n",
      "|  (47)  | regnet_y_32gf      |\n",
      "|  (48)  | regnet_x_400mf     |\n",
      "|  (49)  | regnet_x_800mf     |\n",
      "|  (50)  | regnet_x_1_6gf     |\n",
      "|  (51)  | regnet_x_3_2gf     |\n",
      "|  (52)  | regnet_x_8gf       |\n",
      "|  (53)  | regnet_x_16gf      |\n",
      "|  (54)  | regnet_x_32gf      |\n",
      "+--------+--------------------+\n",
      "(Press 'n' to go back)\n",
      "4\n"
     ]
    },
    {
     "output_type": "stream",
     "name": "stderr",
     "text": [
      "Downloading: \"https://download.pytorch.org/models/resnet50-0676ba61.pth\" to /root/.cache/torch/hub/checkpoints/resnet50-0676ba61.pth\n"
     ]
    },
    {
     "output_type": "display_data",
     "data": {
      "text/plain": [
       "  0%|          | 0.00/97.8M [00:00<?, ?B/s]"
      ],
      "application/vnd.jupyter.widget-view+json": {
       "version_major": 2,
       "version_minor": 0,
       "model_id": "50bb34428b414687a4ad1281ba05b889"
      }
     },
     "metadata": {}
    },
    {
     "output_type": "stream",
     "name": "stderr",
     "text": [
      " 60%|██████    | 120/200 [44:15<29:08, 21.86s/it]"
     ]
    }
   ],
   "source": [
    "#After installing everything run this cell - The Code should work now :)\n",
    "import sys\n",
    "%cd /content/rsatoolbox/net2brain/\n",
    "sys.path.insert(0, \"/content/rsatoolbox\")\n",
    "\n",
    "from toolbox_ui import main\n",
    "main()"
   ]
  },
  {
   "cell_type": "code",
   "source": [
    "[0.0010316829640826407, 0.00041479924088485545, 0.0004379280044265159, 0.0010880994102631595, 0.0006283490336364613, 0.0005210128123951348, 0.0015913040115340183, 0.0006139737606301749]"
   ],
   "metadata": {
    "id": "VcM8996Xt_k4"
   },
   "execution_count": null,
   "outputs": []
  },
  {
   "cell_type": "code",
   "source": [
    "# [0.0021056644056733726, 0.002809697651167221, 0.005183788249533805, 0.004262547099209357, 0.010004941632376241, 0.0027429902422342976, 0.0036107933548941685, 0.006811836340907594, 0.006228924470898495, 0.013595679276793159, 0.0023149756090678807, 0.002820183113975318, 0.0064535358694937, 0.006305436703579559, 0.013946684637249398, 0.0003334765248808962, 0.0006465305594745817, 0.002194599244724376, 0.0012433526604880949, 0.0034314592990537618]\n"
   ],
   "metadata": {
    "id": "RiQbBR-Ae-2V"
   },
   "execution_count": null,
   "outputs": []
  },
  {
   "cell_type": "markdown",
   "metadata": {
    "id": "FfC71PsMVBPf"
   },
   "source": [
    "# **Dissecting toolbox:**"
   ]
  },
  {
   "cell_type": "markdown",
   "source": [],
   "metadata": {
    "id": "Qk9Xn9B4NiOV"
   }
  },
  {
   "cell_type": "markdown",
   "source": [
    "#### This is the Alexnet model in the toolbox:"
   ],
   "metadata": {
    "id": "17sb6jGXPEOQ"
   }
  },
  {
   "cell_type": "code",
   "source": [
    "from torchvision.models import alexnet\n",
    "model = alexnet(pretrained=True).eval()\n",
    "model"
   ],
   "metadata": {
    "colab": {
     "base_uri": "https://localhost:8080/"
    },
    "id": "OJleOdD_PHjB",
    "outputId": "fcb34836-1781-4d95-c058-7a8977de770a"
   },
   "execution_count": null,
   "outputs": [
    {
     "output_type": "execute_result",
     "data": {
      "text/plain": [
       "AlexNet(\n",
       "  (features): Sequential(\n",
       "    (0): Conv2d(3, 64, kernel_size=(11, 11), stride=(4, 4), padding=(2, 2))\n",
       "    (1): ReLU(inplace=True)\n",
       "    (2): MaxPool2d(kernel_size=3, stride=2, padding=0, dilation=1, ceil_mode=False)\n",
       "    (3): Conv2d(64, 192, kernel_size=(5, 5), stride=(1, 1), padding=(2, 2))\n",
       "    (4): ReLU(inplace=True)\n",
       "    (5): MaxPool2d(kernel_size=3, stride=2, padding=0, dilation=1, ceil_mode=False)\n",
       "    (6): Conv2d(192, 384, kernel_size=(3, 3), stride=(1, 1), padding=(1, 1))\n",
       "    (7): ReLU(inplace=True)\n",
       "    (8): Conv2d(384, 256, kernel_size=(3, 3), stride=(1, 1), padding=(1, 1))\n",
       "    (9): ReLU(inplace=True)\n",
       "    (10): Conv2d(256, 256, kernel_size=(3, 3), stride=(1, 1), padding=(1, 1))\n",
       "    (11): ReLU(inplace=True)\n",
       "    (12): MaxPool2d(kernel_size=3, stride=2, padding=0, dilation=1, ceil_mode=False)\n",
       "  )\n",
       "  (avgpool): AdaptiveAvgPool2d(output_size=(6, 6))\n",
       "  (classifier): Sequential(\n",
       "    (0): Dropout(p=0.5, inplace=False)\n",
       "    (1): Linear(in_features=9216, out_features=4096, bias=True)\n",
       "    (2): ReLU(inplace=True)\n",
       "    (3): Dropout(p=0.5, inplace=False)\n",
       "    (4): Linear(in_features=4096, out_features=4096, bias=True)\n",
       "    (5): ReLU(inplace=True)\n",
       "    (6): Linear(in_features=4096, out_features=1000, bias=True)\n",
       "  )\n",
       ")"
      ]
     },
     "metadata": {},
     "execution_count": 7
    }
   ]
  },
  {
   "cell_type": "markdown",
   "source": [
    "#### Looking at the individual layer RDM's created from Feature Extraction step in toolbox"
   ],
   "metadata": {
    "id": "zTv4dHGGPKrJ"
   }
  },
  {
   "cell_type": "code",
   "source": [
    "import numpy as np\n",
    "feats = np.load(\"/content/isiktoolbox/feats/EmaliesData/standard_ResNet50/yt-ZXSB3uT5Rk8_91.npz\")\n",
    "layer1rdm = np.load(\"/content/isiktoolbox/rdms/EmaliesData/standard_ResNet50/layer1.npz\")\n",
    "layer2rdm = np.load(\"/content/isiktoolbox/rdms/EmaliesData/standard_ResNet50/layer2.npz\")\n",
    "layer3rdm = np.load(\"/content/isiktoolbox/rdms/EmaliesData/standard_ResNet50/layer3.npz\")\n",
    "layer4rdm = np.load(\"/content/isiktoolbox/rdms/EmaliesData/standard_ResNet50/layer4.npz\")"
   ],
   "metadata": {
    "id": "IoRVQPvfGsZd",
    "colab": {
     "base_uri": "https://localhost:8080/",
     "height": 357
    },
    "outputId": "563059ee-8db4-468c-e510-04fe8b61c1c6"
   },
   "execution_count": null,
   "outputs": [
    {
     "output_type": "error",
     "ename": "FileNotFoundError",
     "evalue": "ignored",
     "traceback": [
      "\u001B[0;31m---------------------------------------------------------------------------\u001B[0m",
      "\u001B[0;31mFileNotFoundError\u001B[0m                         Traceback (most recent call last)",
      "\u001B[0;32m<ipython-input-8-a7b094301ddc>\u001B[0m in \u001B[0;36m<module>\u001B[0;34m\u001B[0m\n\u001B[1;32m      1\u001B[0m \u001B[0;32mimport\u001B[0m \u001B[0mnumpy\u001B[0m \u001B[0;32mas\u001B[0m \u001B[0mnp\u001B[0m\u001B[0;34m\u001B[0m\u001B[0;34m\u001B[0m\u001B[0m\n\u001B[0;32m----> 2\u001B[0;31m \u001B[0mfeats\u001B[0m \u001B[0;34m=\u001B[0m \u001B[0mnp\u001B[0m\u001B[0;34m.\u001B[0m\u001B[0mload\u001B[0m\u001B[0;34m(\u001B[0m\u001B[0;34m\"/content/isiktoolbox/feats/EmaliesData/standard_ResNet50/yt-ZXSB3uT5Rk8_91.npz\"\u001B[0m\u001B[0;34m)\u001B[0m\u001B[0;34m\u001B[0m\u001B[0;34m\u001B[0m\u001B[0m\n\u001B[0m\u001B[1;32m      3\u001B[0m \u001B[0mlayer1rdm\u001B[0m \u001B[0;34m=\u001B[0m \u001B[0mnp\u001B[0m\u001B[0;34m.\u001B[0m\u001B[0mload\u001B[0m\u001B[0;34m(\u001B[0m\u001B[0;34m\"/content/isiktoolbox/rdms/EmaliesData/standard_ResNet50/layer1.npz\"\u001B[0m\u001B[0;34m)\u001B[0m\u001B[0;34m\u001B[0m\u001B[0;34m\u001B[0m\u001B[0m\n\u001B[1;32m      4\u001B[0m \u001B[0mlayer2rdm\u001B[0m \u001B[0;34m=\u001B[0m \u001B[0mnp\u001B[0m\u001B[0;34m.\u001B[0m\u001B[0mload\u001B[0m\u001B[0;34m(\u001B[0m\u001B[0;34m\"/content/isiktoolbox/rdms/EmaliesData/standard_ResNet50/layer2.npz\"\u001B[0m\u001B[0;34m)\u001B[0m\u001B[0;34m\u001B[0m\u001B[0;34m\u001B[0m\u001B[0m\n\u001B[1;32m      5\u001B[0m \u001B[0mlayer3rdm\u001B[0m \u001B[0;34m=\u001B[0m \u001B[0mnp\u001B[0m\u001B[0;34m.\u001B[0m\u001B[0mload\u001B[0m\u001B[0;34m(\u001B[0m\u001B[0;34m\"/content/isiktoolbox/rdms/EmaliesData/standard_ResNet50/layer3.npz\"\u001B[0m\u001B[0;34m)\u001B[0m\u001B[0;34m\u001B[0m\u001B[0;34m\u001B[0m\u001B[0m\n",
      "\u001B[0;32m/usr/local/lib/python3.7/dist-packages/numpy/lib/npyio.py\u001B[0m in \u001B[0;36mload\u001B[0;34m(file, mmap_mode, allow_pickle, fix_imports, encoding)\u001B[0m\n\u001B[1;32m    415\u001B[0m             \u001B[0mown_fid\u001B[0m \u001B[0;34m=\u001B[0m \u001B[0;32mFalse\u001B[0m\u001B[0;34m\u001B[0m\u001B[0;34m\u001B[0m\u001B[0m\n\u001B[1;32m    416\u001B[0m         \u001B[0;32melse\u001B[0m\u001B[0;34m:\u001B[0m\u001B[0;34m\u001B[0m\u001B[0;34m\u001B[0m\u001B[0m\n\u001B[0;32m--> 417\u001B[0;31m             \u001B[0mfid\u001B[0m \u001B[0;34m=\u001B[0m \u001B[0mstack\u001B[0m\u001B[0;34m.\u001B[0m\u001B[0menter_context\u001B[0m\u001B[0;34m(\u001B[0m\u001B[0mopen\u001B[0m\u001B[0;34m(\u001B[0m\u001B[0mos_fspath\u001B[0m\u001B[0;34m(\u001B[0m\u001B[0mfile\u001B[0m\u001B[0;34m)\u001B[0m\u001B[0;34m,\u001B[0m \u001B[0;34m\"rb\"\u001B[0m\u001B[0;34m)\u001B[0m\u001B[0;34m)\u001B[0m\u001B[0;34m\u001B[0m\u001B[0;34m\u001B[0m\u001B[0m\n\u001B[0m\u001B[1;32m    418\u001B[0m             \u001B[0mown_fid\u001B[0m \u001B[0;34m=\u001B[0m \u001B[0;32mTrue\u001B[0m\u001B[0;34m\u001B[0m\u001B[0;34m\u001B[0m\u001B[0m\n\u001B[1;32m    419\u001B[0m \u001B[0;34m\u001B[0m\u001B[0m\n",
      "\u001B[0;31mFileNotFoundError\u001B[0m: [Errno 2] No such file or directory: '/content/isiktoolbox/feats/EmaliesData/standard_ResNet50/yt-ZXSB3uT5Rk8_91.npz'"
     ]
    }
   ]
  },
  {
   "cell_type": "markdown",
   "source": [
    "Shapes of each model layer:"
   ],
   "metadata": {
    "id": "EDRR2CMqQeiY"
   }
  },
  {
   "cell_type": "code",
   "source": [
    "for f in feats:\n",
    "  print(f)\n",
    "  print(feats[f].shape)"
   ],
   "metadata": {
    "colab": {
     "base_uri": "https://localhost:8080/"
    },
    "id": "gdPxUG1WG5dl",
    "outputId": "36281c15-e29f-4023-cfbd-3ee21078eccc"
   },
   "execution_count": null,
   "outputs": [
    {
     "output_type": "stream",
     "name": "stdout",
     "text": [
      "layer1\n",
      "(1, 256, 56, 56)\n",
      "layer2\n",
      "(1, 512, 28, 28)\n",
      "layer3\n",
      "(1, 1024, 14, 14)\n",
      "layer4\n",
      "(1, 2048, 7, 7)\n"
     ]
    }
   ]
  },
  {
   "cell_type": "markdown",
   "source": [
    "Code to possible create my own RDM's (Not using toolbox)"
   ],
   "metadata": {
    "id": "E1J6zeBJQovY"
   }
  },
  {
   "cell_type": "code",
   "source": [
    "'''# Creating RDM's from features\n",
    "layer_id = 1 # working with one layer for now\n",
    "activations = []\n",
    "  for i in tqdm(range(num_condns)):  # for each datafile for the current layer\n",
    "      feature_i = get_features(layer_id, i) # get activations of the current layer\n",
    "      activations.append(feature_i)  # collect in a list\n",
    "      \n",
    "      r_scaled = SS().fit_transform(np.array(activations))  # list to npy array and normalize the values\n",
    "            \n",
    "      #TODO: Do not do it with every layer at the same time - filling one by one\n",
    "      #For now: RSA up to x amount - later maybe encoding models\n",
    "\n",
    "      rdm = 1 - np.corrcoef(r_scaled)  # Perform pearson correlation coefficient\n",
    "\n",
    "  rdm_fmri = np.array(rdm)'''"
   ],
   "metadata": {
    "colab": {
     "base_uri": "https://localhost:8080/"
    },
    "id": "ZDgVSry_H7dk",
    "outputId": "7a5bec78-3e1b-40d3-d3a4-068e855b4be9"
   },
   "execution_count": null,
   "outputs": [
    {
     "output_type": "execute_result",
     "data": {
      "text/plain": [
       "array(nan)"
      ]
     },
     "metadata": {},
     "execution_count": 24
    }
   ]
  },
  {
   "cell_type": "markdown",
   "source": [
    "#### Looking at the Evaluation step raw data from toolbox:"
   ],
   "metadata": {
    "id": "SGoJ9iukPVpg"
   }
  },
  {
   "cell_type": "code",
   "execution_count": 2,
   "metadata": {
    "id": "l9MuSMlhGaL7"
   },
   "outputs": [],
   "source": [
    "import pandas as pd\n",
    "df_data = pd.read_csv(\"output.csv\")"
   ]
  },
  {
   "cell_type": "code",
   "source": [
    "df_data"
   ],
   "metadata": {
    "colab": {
     "base_uri": "https://localhost:8080/",
     "height": 237
    },
    "id": "hE6GzvalMIb4",
    "outputId": "4f7ef22c-ad67-4760-f233-92f56e788c59"
   },
   "execution_count": 3,
   "outputs": [
    {
     "output_type": "execute_result",
     "data": {
      "text/plain": [
       "   Unnamed: 0     Dataset  Brain Region           Network            Layer  \\\n",
       "0           0  3SecVideos  fmri_EVC_RDM  standard_AlexNet   features.3.npz   \n",
       "1           1  3SecVideos  fmri_FFA_RDM  standard_AlexNet  features.10.npz   \n",
       "2           2  3SecVideos  fmri_PPA_RDM  standard_AlexNet   features.3.npz   \n",
       "3           3  3SecVideos  fmri_EBA_RDM  standard_AlexNet  features.10.npz   \n",
       "4           4  3SecVideos  fmri_LOC_RDM  standard_AlexNet  features.10.npz   \n",
       "5           5  3SecVideos  fmri_STS_RDM  standard_AlexNet  features.10.npz   \n",
       "\n",
       "         R²  Noise Ceiling %  Significance       Sem  \n",
       "0  0.004648         1.312359      0.012054  0.000851  \n",
       "1  0.010245         2.466419      0.024639  0.002439  \n",
       "2  0.002893         0.750062      0.046726  0.000884  \n",
       "3  0.005240         1.356145      0.105149  0.002280  \n",
       "4  0.007031         2.456253      0.003651  0.000846  \n",
       "5  0.004355         1.970175      0.085537  0.001723  "
      ],
      "text/html": [
       "\n",
       "  <div id=\"df-3d207400-a650-4009-8c40-c9fd43e40e47\">\n",
       "    <div class=\"colab-df-container\">\n",
       "      <div>\n",
       "<style scoped>\n",
       "    .dataframe tbody tr th:only-of-type {\n",
       "        vertical-align: middle;\n",
       "    }\n",
       "\n",
       "    .dataframe tbody tr th {\n",
       "        vertical-align: top;\n",
       "    }\n",
       "\n",
       "    .dataframe thead th {\n",
       "        text-align: right;\n",
       "    }\n",
       "</style>\n",
       "<table border=\"1\" class=\"dataframe\">\n",
       "  <thead>\n",
       "    <tr style=\"text-align: right;\">\n",
       "      <th></th>\n",
       "      <th>Unnamed: 0</th>\n",
       "      <th>Dataset</th>\n",
       "      <th>Brain Region</th>\n",
       "      <th>Network</th>\n",
       "      <th>Layer</th>\n",
       "      <th>R²</th>\n",
       "      <th>Noise Ceiling %</th>\n",
       "      <th>Significance</th>\n",
       "      <th>Sem</th>\n",
       "    </tr>\n",
       "  </thead>\n",
       "  <tbody>\n",
       "    <tr>\n",
       "      <th>0</th>\n",
       "      <td>0</td>\n",
       "      <td>3SecVideos</td>\n",
       "      <td>fmri_EVC_RDM</td>\n",
       "      <td>standard_AlexNet</td>\n",
       "      <td>features.3.npz</td>\n",
       "      <td>0.004648</td>\n",
       "      <td>1.312359</td>\n",
       "      <td>0.012054</td>\n",
       "      <td>0.000851</td>\n",
       "    </tr>\n",
       "    <tr>\n",
       "      <th>1</th>\n",
       "      <td>1</td>\n",
       "      <td>3SecVideos</td>\n",
       "      <td>fmri_FFA_RDM</td>\n",
       "      <td>standard_AlexNet</td>\n",
       "      <td>features.10.npz</td>\n",
       "      <td>0.010245</td>\n",
       "      <td>2.466419</td>\n",
       "      <td>0.024639</td>\n",
       "      <td>0.002439</td>\n",
       "    </tr>\n",
       "    <tr>\n",
       "      <th>2</th>\n",
       "      <td>2</td>\n",
       "      <td>3SecVideos</td>\n",
       "      <td>fmri_PPA_RDM</td>\n",
       "      <td>standard_AlexNet</td>\n",
       "      <td>features.3.npz</td>\n",
       "      <td>0.002893</td>\n",
       "      <td>0.750062</td>\n",
       "      <td>0.046726</td>\n",
       "      <td>0.000884</td>\n",
       "    </tr>\n",
       "    <tr>\n",
       "      <th>3</th>\n",
       "      <td>3</td>\n",
       "      <td>3SecVideos</td>\n",
       "      <td>fmri_EBA_RDM</td>\n",
       "      <td>standard_AlexNet</td>\n",
       "      <td>features.10.npz</td>\n",
       "      <td>0.005240</td>\n",
       "      <td>1.356145</td>\n",
       "      <td>0.105149</td>\n",
       "      <td>0.002280</td>\n",
       "    </tr>\n",
       "    <tr>\n",
       "      <th>4</th>\n",
       "      <td>4</td>\n",
       "      <td>3SecVideos</td>\n",
       "      <td>fmri_LOC_RDM</td>\n",
       "      <td>standard_AlexNet</td>\n",
       "      <td>features.10.npz</td>\n",
       "      <td>0.007031</td>\n",
       "      <td>2.456253</td>\n",
       "      <td>0.003651</td>\n",
       "      <td>0.000846</td>\n",
       "    </tr>\n",
       "    <tr>\n",
       "      <th>5</th>\n",
       "      <td>5</td>\n",
       "      <td>3SecVideos</td>\n",
       "      <td>fmri_STS_RDM</td>\n",
       "      <td>standard_AlexNet</td>\n",
       "      <td>features.10.npz</td>\n",
       "      <td>0.004355</td>\n",
       "      <td>1.970175</td>\n",
       "      <td>0.085537</td>\n",
       "      <td>0.001723</td>\n",
       "    </tr>\n",
       "  </tbody>\n",
       "</table>\n",
       "</div>\n",
       "      <button class=\"colab-df-convert\" onclick=\"convertToInteractive('df-3d207400-a650-4009-8c40-c9fd43e40e47')\"\n",
       "              title=\"Convert this dataframe to an interactive table.\"\n",
       "              style=\"display:none;\">\n",
       "        \n",
       "  <svg xmlns=\"http://www.w3.org/2000/svg\" height=\"24px\"viewBox=\"0 0 24 24\"\n",
       "       width=\"24px\">\n",
       "    <path d=\"M0 0h24v24H0V0z\" fill=\"none\"/>\n",
       "    <path d=\"M18.56 5.44l.94 2.06.94-2.06 2.06-.94-2.06-.94-.94-2.06-.94 2.06-2.06.94zm-11 1L8.5 8.5l.94-2.06 2.06-.94-2.06-.94L8.5 2.5l-.94 2.06-2.06.94zm10 10l.94 2.06.94-2.06 2.06-.94-2.06-.94-.94-2.06-.94 2.06-2.06.94z\"/><path d=\"M17.41 7.96l-1.37-1.37c-.4-.4-.92-.59-1.43-.59-.52 0-1.04.2-1.43.59L10.3 9.45l-7.72 7.72c-.78.78-.78 2.05 0 2.83L4 21.41c.39.39.9.59 1.41.59.51 0 1.02-.2 1.41-.59l7.78-7.78 2.81-2.81c.8-.78.8-2.07 0-2.86zM5.41 20L4 18.59l7.72-7.72 1.47 1.35L5.41 20z\"/>\n",
       "  </svg>\n",
       "      </button>\n",
       "      \n",
       "  <style>\n",
       "    .colab-df-container {\n",
       "      display:flex;\n",
       "      flex-wrap:wrap;\n",
       "      gap: 12px;\n",
       "    }\n",
       "\n",
       "    .colab-df-convert {\n",
       "      background-color: #E8F0FE;\n",
       "      border: none;\n",
       "      border-radius: 50%;\n",
       "      cursor: pointer;\n",
       "      display: none;\n",
       "      fill: #1967D2;\n",
       "      height: 32px;\n",
       "      padding: 0 0 0 0;\n",
       "      width: 32px;\n",
       "    }\n",
       "\n",
       "    .colab-df-convert:hover {\n",
       "      background-color: #E2EBFA;\n",
       "      box-shadow: 0px 1px 2px rgba(60, 64, 67, 0.3), 0px 1px 3px 1px rgba(60, 64, 67, 0.15);\n",
       "      fill: #174EA6;\n",
       "    }\n",
       "\n",
       "    [theme=dark] .colab-df-convert {\n",
       "      background-color: #3B4455;\n",
       "      fill: #D2E3FC;\n",
       "    }\n",
       "\n",
       "    [theme=dark] .colab-df-convert:hover {\n",
       "      background-color: #434B5C;\n",
       "      box-shadow: 0px 1px 3px 1px rgba(0, 0, 0, 0.15);\n",
       "      filter: drop-shadow(0px 1px 2px rgba(0, 0, 0, 0.3));\n",
       "      fill: #FFFFFF;\n",
       "    }\n",
       "  </style>\n",
       "\n",
       "      <script>\n",
       "        const buttonEl =\n",
       "          document.querySelector('#df-3d207400-a650-4009-8c40-c9fd43e40e47 button.colab-df-convert');\n",
       "        buttonEl.style.display =\n",
       "          google.colab.kernel.accessAllowed ? 'block' : 'none';\n",
       "\n",
       "        async function convertToInteractive(key) {\n",
       "          const element = document.querySelector('#df-3d207400-a650-4009-8c40-c9fd43e40e47');\n",
       "          const dataTable =\n",
       "            await google.colab.kernel.invokeFunction('convertToInteractive',\n",
       "                                                     [key], {});\n",
       "          if (!dataTable) return;\n",
       "\n",
       "          const docLinkHtml = 'Like what you see? Visit the ' +\n",
       "            '<a target=\"_blank\" href=https://colab.research.google.com/notebooks/data_table.ipynb>data table notebook</a>'\n",
       "            + ' to learn more about interactive tables.';\n",
       "          element.innerHTML = '';\n",
       "          dataTable['output_type'] = 'display_data';\n",
       "          await google.colab.output.renderOutput(dataTable, element);\n",
       "          const docLink = document.createElement('div');\n",
       "          docLink.innerHTML = docLinkHtml;\n",
       "          element.appendChild(docLink);\n",
       "        }\n",
       "      </script>\n",
       "    </div>\n",
       "  </div>\n",
       "  "
      ]
     },
     "metadata": {},
     "execution_count": 3
    }
   ]
  },
  {
   "cell_type": "code",
   "execution_count": null,
   "metadata": {
    "colab": {
     "base_uri": "https://localhost:8080/",
     "height": 175
    },
    "id": "EDII10scGmpp",
    "outputId": "3128511c-07f1-49cb-e809-a436b595c193"
   },
   "outputs": [
    {
     "output_type": "execute_result",
     "data": {
      "text/plain": [
       "   Unnamed: 0     Dataset       Brain Region           Network  Layer  \\\n",
       "0           0  3SecVideos  fmri_sub1_ffa_rdm  standard_AlexNet  conv5   \n",
       "1           1  3SecVideos  fmri_sub2_ffa_rdm  standard_AlexNet  conv5   \n",
       "2           2  3SecVideos  fmri_sub3_ffa_rdm  standard_AlexNet  conv5   \n",
       "3           3  3SecVideos  fmri_sub4_ffa_rdm  standard_AlexNet  conv5   \n",
       "\n",
       "         R²  Noise Ceiling %  Significance  Sem  \n",
       "0  0.010005              NaN           NaN  NaN  \n",
       "1  0.013596              NaN           NaN  NaN  \n",
       "2  0.013947              NaN           NaN  NaN  \n",
       "3  0.003431              NaN           NaN  NaN  "
      ],
      "text/html": [
       "\n",
       "  <div id=\"df-eef42109-9d23-44f3-b445-7bdd1600be90\">\n",
       "    <div class=\"colab-df-container\">\n",
       "      <div>\n",
       "<style scoped>\n",
       "    .dataframe tbody tr th:only-of-type {\n",
       "        vertical-align: middle;\n",
       "    }\n",
       "\n",
       "    .dataframe tbody tr th {\n",
       "        vertical-align: top;\n",
       "    }\n",
       "\n",
       "    .dataframe thead th {\n",
       "        text-align: right;\n",
       "    }\n",
       "</style>\n",
       "<table border=\"1\" class=\"dataframe\">\n",
       "  <thead>\n",
       "    <tr style=\"text-align: right;\">\n",
       "      <th></th>\n",
       "      <th>Unnamed: 0</th>\n",
       "      <th>Dataset</th>\n",
       "      <th>Brain Region</th>\n",
       "      <th>Network</th>\n",
       "      <th>Layer</th>\n",
       "      <th>R²</th>\n",
       "      <th>Noise Ceiling %</th>\n",
       "      <th>Significance</th>\n",
       "      <th>Sem</th>\n",
       "    </tr>\n",
       "  </thead>\n",
       "  <tbody>\n",
       "    <tr>\n",
       "      <th>0</th>\n",
       "      <td>0</td>\n",
       "      <td>3SecVideos</td>\n",
       "      <td>fmri_sub1_ffa_rdm</td>\n",
       "      <td>standard_AlexNet</td>\n",
       "      <td>conv5</td>\n",
       "      <td>0.010005</td>\n",
       "      <td>NaN</td>\n",
       "      <td>NaN</td>\n",
       "      <td>NaN</td>\n",
       "    </tr>\n",
       "    <tr>\n",
       "      <th>1</th>\n",
       "      <td>1</td>\n",
       "      <td>3SecVideos</td>\n",
       "      <td>fmri_sub2_ffa_rdm</td>\n",
       "      <td>standard_AlexNet</td>\n",
       "      <td>conv5</td>\n",
       "      <td>0.013596</td>\n",
       "      <td>NaN</td>\n",
       "      <td>NaN</td>\n",
       "      <td>NaN</td>\n",
       "    </tr>\n",
       "    <tr>\n",
       "      <th>2</th>\n",
       "      <td>2</td>\n",
       "      <td>3SecVideos</td>\n",
       "      <td>fmri_sub3_ffa_rdm</td>\n",
       "      <td>standard_AlexNet</td>\n",
       "      <td>conv5</td>\n",
       "      <td>0.013947</td>\n",
       "      <td>NaN</td>\n",
       "      <td>NaN</td>\n",
       "      <td>NaN</td>\n",
       "    </tr>\n",
       "    <tr>\n",
       "      <th>3</th>\n",
       "      <td>3</td>\n",
       "      <td>3SecVideos</td>\n",
       "      <td>fmri_sub4_ffa_rdm</td>\n",
       "      <td>standard_AlexNet</td>\n",
       "      <td>conv5</td>\n",
       "      <td>0.003431</td>\n",
       "      <td>NaN</td>\n",
       "      <td>NaN</td>\n",
       "      <td>NaN</td>\n",
       "    </tr>\n",
       "  </tbody>\n",
       "</table>\n",
       "</div>\n",
       "      <button class=\"colab-df-convert\" onclick=\"convertToInteractive('df-eef42109-9d23-44f3-b445-7bdd1600be90')\"\n",
       "              title=\"Convert this dataframe to an interactive table.\"\n",
       "              style=\"display:none;\">\n",
       "        \n",
       "  <svg xmlns=\"http://www.w3.org/2000/svg\" height=\"24px\"viewBox=\"0 0 24 24\"\n",
       "       width=\"24px\">\n",
       "    <path d=\"M0 0h24v24H0V0z\" fill=\"none\"/>\n",
       "    <path d=\"M18.56 5.44l.94 2.06.94-2.06 2.06-.94-2.06-.94-.94-2.06-.94 2.06-2.06.94zm-11 1L8.5 8.5l.94-2.06 2.06-.94-2.06-.94L8.5 2.5l-.94 2.06-2.06.94zm10 10l.94 2.06.94-2.06 2.06-.94-2.06-.94-.94-2.06-.94 2.06-2.06.94z\"/><path d=\"M17.41 7.96l-1.37-1.37c-.4-.4-.92-.59-1.43-.59-.52 0-1.04.2-1.43.59L10.3 9.45l-7.72 7.72c-.78.78-.78 2.05 0 2.83L4 21.41c.39.39.9.59 1.41.59.51 0 1.02-.2 1.41-.59l7.78-7.78 2.81-2.81c.8-.78.8-2.07 0-2.86zM5.41 20L4 18.59l7.72-7.72 1.47 1.35L5.41 20z\"/>\n",
       "  </svg>\n",
       "      </button>\n",
       "      \n",
       "  <style>\n",
       "    .colab-df-container {\n",
       "      display:flex;\n",
       "      flex-wrap:wrap;\n",
       "      gap: 12px;\n",
       "    }\n",
       "\n",
       "    .colab-df-convert {\n",
       "      background-color: #E8F0FE;\n",
       "      border: none;\n",
       "      border-radius: 50%;\n",
       "      cursor: pointer;\n",
       "      display: none;\n",
       "      fill: #1967D2;\n",
       "      height: 32px;\n",
       "      padding: 0 0 0 0;\n",
       "      width: 32px;\n",
       "    }\n",
       "\n",
       "    .colab-df-convert:hover {\n",
       "      background-color: #E2EBFA;\n",
       "      box-shadow: 0px 1px 2px rgba(60, 64, 67, 0.3), 0px 1px 3px 1px rgba(60, 64, 67, 0.15);\n",
       "      fill: #174EA6;\n",
       "    }\n",
       "\n",
       "    [theme=dark] .colab-df-convert {\n",
       "      background-color: #3B4455;\n",
       "      fill: #D2E3FC;\n",
       "    }\n",
       "\n",
       "    [theme=dark] .colab-df-convert:hover {\n",
       "      background-color: #434B5C;\n",
       "      box-shadow: 0px 1px 3px 1px rgba(0, 0, 0, 0.15);\n",
       "      filter: drop-shadow(0px 1px 2px rgba(0, 0, 0, 0.3));\n",
       "      fill: #FFFFFF;\n",
       "    }\n",
       "  </style>\n",
       "\n",
       "      <script>\n",
       "        const buttonEl =\n",
       "          document.querySelector('#df-eef42109-9d23-44f3-b445-7bdd1600be90 button.colab-df-convert');\n",
       "        buttonEl.style.display =\n",
       "          google.colab.kernel.accessAllowed ? 'block' : 'none';\n",
       "\n",
       "        async function convertToInteractive(key) {\n",
       "          const element = document.querySelector('#df-eef42109-9d23-44f3-b445-7bdd1600be90');\n",
       "          const dataTable =\n",
       "            await google.colab.kernel.invokeFunction('convertToInteractive',\n",
       "                                                     [key], {});\n",
       "          if (!dataTable) return;\n",
       "\n",
       "          const docLinkHtml = 'Like what you see? Visit the ' +\n",
       "            '<a target=\"_blank\" href=https://colab.research.google.com/notebooks/data_table.ipynb>data table notebook</a>'\n",
       "            + ' to learn more about interactive tables.';\n",
       "          element.innerHTML = '';\n",
       "          dataTable['output_type'] = 'display_data';\n",
       "          await google.colab.output.renderOutput(dataTable, element);\n",
       "          const docLink = document.createElement('div');\n",
       "          docLink.innerHTML = docLinkHtml;\n",
       "          element.appendChild(docLink);\n",
       "        }\n",
       "      </script>\n",
       "    </div>\n",
       "  </div>\n",
       "  "
      ]
     },
     "metadata": {},
     "execution_count": 44
    }
   ],
   "source": [
    "layerMap = {'features.0.npz' : 'conv1', \n",
    "            'features.3.npz' : 'conv2',\n",
    "            'features.6.npz' : 'conv3',\n",
    "            'features.8.npz' : 'conv4',\n",
    "            'features.10.npz' : 'conv5'}\n",
    "df_data = df_data.replace(layerMap)\n",
    "df_data"
   ]
  },
  {
   "cell_type": "markdown",
   "metadata": {
    "id": "TBmQ-NGiIn8q"
   },
   "source": [
    "## Plotting Evaluation Data Exploration:"
   ]
  },
  {
   "cell_type": "code",
   "execution_count": 3,
   "metadata": {
    "id": "aAT38lRNIrpf"
   },
   "outputs": [],
   "source": [
    "import pandas as pd\n",
    "import numpy as np\n",
    "import matplotlib.pyplot as plt"
   ]
  },
  {
   "cell_type": "markdown",
   "source": [
    "## AlexNet for each Subject"
   ],
   "metadata": {
    "id": "QSptg1-KfhPp"
   }
  },
  {
   "cell_type": "code",
   "source": [
    "sub_scores = [0.0021056644056733726, 0.002809697651167221, 0.005183788249533805, 0.004262547099209357, 0.010004941632376241, 0.0027429902422342976, 0.0036107933548941685, 0.006811836340907594, 0.006228924470898495, 0.013595679276793159, 0.0023149756090678807, 0.002820183113975318, 0.0064535358694937, 0.006305436703579559, 0.013946684637249398, 0.0003334765248808962, 0.0006465305594745817, 0.002194599244724376, 0.0012433526604880949, 0.0034314592990537618]\n",
    "\n",
    "d = {'ROI': ['1','1','1','1','1','2','2','2','2','2', '3','3','3','3','3','4','4','4','4','4'], 'Layer': ['c1', 'c2', 'c3', 'c4', 'c5', 'c1 ', 'c2 ', 'c3 ', 'c4 ' , 'c5 ', 'c1   ', 'c2   ', 'c3   ', 'c4   ', 'c5   ', 'c1  ', 'c2  ', 'c3  ', 'c4  ' , 'c5  '], 'r': sub_scores}\n",
    "data = pd.DataFrame(data = d)\n",
    "\n",
    "colors = {'1':'royalblue', '2':'purple', '3':'red', '4':'yellow'}\n",
    "c = data['ROI'].apply(lambda x: colors[x])\n",
    "\n",
    "plt.figure(figsize=(15, 10))\n",
    "ax = plt.subplot(111) #specify a subplot\n",
    "bars = ax.bar(data['Layer'], data['r'], color=c) #Plot data on subplot axis\n",
    "for i, j in colors.items(): #Loop over color dictionary\n",
    "    ax.bar(data['Layer'], data['r'],width=0,color=j,label=i) #Plot invisible bar graph but have the legends specified\n",
    "ax.legend()\n",
    "ax.set_ylabel(\"Correlation r2\")\n",
    "ax.set_xlabel(\"Model Layers (c = convolution)\")\n",
    "ax.set_title(\"RSA of Alexnet Layers for FFA and PPA video stimuli\")\n",
    "\n",
    "plt.show()"
   ],
   "metadata": {
    "colab": {
     "base_uri": "https://localhost:8080/",
     "height": 634
    },
    "id": "ndqLc1_LfkM6",
    "outputId": "1c23ab1f-9dc8-4a2c-c190-49569a8d9822"
   },
   "execution_count": null,
   "outputs": [
    {
     "output_type": "display_data",
     "data": {
      "text/plain": [
       "<Figure size 1080x720 with 1 Axes>"
      ],
      "image/png": "[encoded data removed]"
     },
     "metadata": {
      "needs_background": "light"
     }
    }
   ]
  },
  {
   "cell_type": "code",
   "source": [
    "d = {'ROI': ['1','1','1','1','1','2','2','2','2','2', '3','3','3','3','3','4','4','4','4','4'], 'Layer': ['c1', 'c2', 'c3', 'c4', 'c5', 'c1 ', 'c2 ', 'c3 ', 'c4 ' , 'c5 ', 'c1   ', 'c2   ', 'c3   ', 'c4   ', 'c5   ', 'c1  ', 'c2  ', 'c3  ', 'c4  ' , 'c5  '], 'r': sub_scores}\n",
    "data = pd.DataFrame(data = d)\n",
    "df = data.rename(columns={'ROI':'Subject'})\n",
    "df.groupby(['Layer', 'Subject'])['r'].sum().unstack().plot.bar()\n",
    "df_g.plot.bar()\n",
    "\n",
    "ax.set_ylabel(\"Correlation r2\")\n",
    "ax.set_xlabel(\"Model Layers (c = convolution)\")\n",
    "ax.set_title(\"RSA of Alexnet Layers for FFA and PPA video stimuli\")"
   ],
   "metadata": {
    "colab": {
     "base_uri": "https://localhost:8080/",
     "height": 651
    },
    "id": "LUyQ9F8_hHzP",
    "outputId": "48191014-462c-410c-ec67-d14076f84cca"
   },
   "execution_count": null,
   "outputs": [
    {
     "output_type": "execute_result",
     "data": {
      "text/plain": [
       "Text(0.5, 1.0, 'RSA of Alexnet Layers for FFA and PPA video stimuli')"
      ]
     },
     "metadata": {},
     "execution_count": 106
    },
    {
     "output_type": "display_data",
     "data": {
      "text/plain": [
       "<Figure size 1080x720 with 1 Axes>"
      ],
      "image/png": "[encoded data removed]"
     },
     "metadata": {
      "needs_background": "light"
     }
    }
   ]
  },
  {
   "cell_type": "code",
   "source": [
    "df_g.plot.bar(stacked=True)"
   ],
   "metadata": {
    "colab": {
     "base_uri": "https://localhost:8080/",
     "height": 320
    },
    "id": "2PCUb9xOltgT",
    "outputId": "97c9028d-39b8-442a-fd39-17cf1fc69594"
   },
   "execution_count": null,
   "outputs": [
    {
     "output_type": "execute_result",
     "data": {
      "text/plain": [
       "<matplotlib.axes._subplots.AxesSubplot at 0x7fa31c3bc210>"
      ]
     },
     "metadata": {},
     "execution_count": 110
    },
    {
     "output_type": "display_data",
     "data": {
      "text/plain": [
       "<Figure size 432x288 with 1 Axes>"
      ],
      "image/png": "[encoded data removed]"
     },
     "metadata": {
      "needs_background": "light"
     }
    }
   ]
  },
  {
   "cell_type": "markdown",
   "metadata": {
    "id": "vrwKBxgoNh7c"
   },
   "source": [
    "## Resnet50 Chart"
   ]
  },
  {
   "cell_type": "code",
   "execution_count": 5,
   "metadata": {
    "colab": {
     "base_uri": "https://localhost:8080/",
     "height": 621
    },
    "id": "SGSKskWZKF8R",
    "outputId": "8d337569-c98d-461d-bbfd-5fb24403dfd0"
   },
   "outputs": [
    {
     "output_type": "display_data",
     "data": {
      "text/plain": [
       "<Figure size 1080x720 with 1 Axes>"
      ],
      "image/png": "[encoded data removed]"
     },
     "metadata": {
      "needs_background": "light"
     }
    }
   ],
   "source": [
    "sub_scores = [0.0010316829640826407, 0.00041479924088485545, 0.0004379280044265159, 0.0010880994102631595, 0.0006283490336364613, 0.0005210128123951348, 0.0015913040115340183, 0.0006139737606301749]\n",
    "d = {'ROI': ['FFA', 'FFA', 'FFA','FFA','PPA','PPA','PPA','PPA'], 'Layer': ['1', '2', '3', '4', '1 ', '2 ', '3 ', '4 '], 'r': sub_scores}\n",
    "data = pd.DataFrame(data = d)\n",
    "\n",
    "colors = {'FFA':'royalblue', 'PPA':'purple'}\n",
    "c = data['ROI'].apply(lambda x: colors[x])\n",
    "\n",
    "plt.figure(figsize=(15, 10))\n",
    "ax = plt.subplot(111) #specify a subplot\n",
    "bars = ax.bar(data['Layer'], data['r'], color=c) #Plot data on subplot axis\n",
    "for i, j in colors.items(): #Loop over color dictionary\n",
    "    ax.bar(data['Layer'], data['r'],width=0,color=j,label=i) #Plot invisible bar graph but have the legends specified\n",
    "ax.legend()\n",
    "ax.set_ylabel(\"Correlation r2\")\n",
    "ax.set_xlabel(\"Model Layers\")\n",
    "ax.set_title(\"RSA of Resnet50 Layers for FFA and PPA video stimuli\")\n",
    "\n",
    "plt.show()"
   ]
  },
  {
   "cell_type": "code",
   "source": [
    "plt.figure(figsize=(15, 10))\n",
    "ax = plt.subplot(111) #specify a subplot\n",
    "df = data.rename(columns={'ROI':'Subject'})\n",
    "df.groupby(['Layer', 'Subject'])['r'].sum().unstack().plot.bar()\n"
   ],
   "metadata": {
    "colab": {
     "base_uri": "https://localhost:8080/",
     "height": 875
    },
    "id": "QiEZ9ZvOwA9L",
    "outputId": "dd05e3e7-a33c-44d6-b128-49b8658311aa"
   },
   "execution_count": 7,
   "outputs": [
    {
     "output_type": "execute_result",
     "data": {
      "text/plain": [
       "<matplotlib.axes._subplots.AxesSubplot at 0x7f4bcf1c45e0>"
      ]
     },
     "metadata": {},
     "execution_count": 7
    },
    {
     "output_type": "display_data",
     "data": {
      "text/plain": [
       "<Figure size 1080x720 with 1 Axes>"
      ],
      "image/png": "[encoded data removed]"
     },
     "metadata": {
      "needs_background": "light"
     }
    },
    {
     "output_type": "display_data",
     "data": {
      "text/plain": [
       "<Figure size 432x288 with 1 Axes>"
      ],
      "image/png": "[encoded data removed]"
     },
     "metadata": {
      "needs_background": "light"
     }
    }
   ]
  },
  {
   "cell_type": "markdown",
   "metadata": {
    "id": "j-NsWsNtNfPy"
   },
   "source": [
    "## Alexnet Chart:"
   ]
  },
  {
   "cell_type": "code",
   "execution_count": null,
   "metadata": {
    "colab": {
     "base_uri": "https://localhost:8080/",
     "height": 634
    },
    "id": "axK8ZgdwNef0",
    "outputId": "15720ea6-3703-442c-fe52-6e8bff3145e4"
   },
   "outputs": [
    {
     "output_type": "display_data",
     "data": {
      "text/plain": [
       "<Figure size 1080x720 with 1 Axes>"
      ],
      "image/png": "[encoded data removed]"
     },
     "metadata": {
      "needs_background": "light"
     }
    }
   ],
   "source": [
    "d = {'ROI': ['FFA','FFA','FFA','FFA','FFA','PPA','PPA','PPA','PPA','PPA'], 'Layer': ['c1', 'c2', 'c3', 'c4', 'c5', 'c1 ', 'c2 ', 'c3 ', 'c4 ' , 'c5 '], 'r': df_data[\"R²\"].to_list()}\n",
    "data = pd.DataFrame(data = d)\n",
    "\n",
    "colors = {'FFA':'royalblue', 'PPA':'purple'}\n",
    "c = data['ROI'].apply(lambda x: colors[x])\n",
    "\n",
    "plt.figure(figsize=(15, 10))\n",
    "ax = plt.subplot(111) #specify a subplot\n",
    "bars = ax.bar(data['Layer'], data['r'], color=c) #Plot data on subplot axis\n",
    "for i, j in colors.items(): #Loop over color dictionary\n",
    "    ax.bar(data['Layer'], data['r'],width=0,color=j,label=i) #Plot invisible bar graph but have the legends specified\n",
    "ax.legend()\n",
    "ax.set_ylabel(\"Correlation r2\")\n",
    "ax.set_xlabel(\"Model Layers (c = convolution)\")\n",
    "ax.set_title(\"RSA of Alexnet Layers for FFA and PPA video stimuli\")\n",
    "\n",
    "plt.show()"
   ]
  },
  {
   "cell_type": "markdown",
   "source": [
    "# Comparing the four subjects seperately:"
   ],
   "metadata": {
    "id": "lJ9Pn_FKa0Wn"
   }
  },
  {
   "cell_type": "code",
   "source": [
    "import numpy as np\n",
    "all_ffa = np.load(\"/content/rsatoolbox/input_data/brain_data/3SecVideos/fmri_FFA_RDM.npz\")\n",
    "all_ppa = np.load(\"/content/rsatoolbox/input_data/brain_data/3SecVideos/fmri_PPA_RDM.npz\")\n"
   ],
   "metadata": {
    "id": "1VPQyojia6MZ"
   },
   "execution_count": 4,
   "outputs": []
  },
  {
   "cell_type": "code",
   "source": [
    "sub1 = all_ffa['arr_0'][0]\n",
    "sub2 = all_ffa['arr_0'][1]\n",
    "sub3 = all_ffa['arr_0'][2]\n",
    "sub4 = all_ffa['arr_0'][3]"
   ],
   "metadata": {
    "id": "9itJWnT3bIoH"
   },
   "execution_count": 5,
   "outputs": []
  },
  {
   "cell_type": "code",
   "source": [
    "rdm = []\n",
    "rdm.append(sub1)\n",
    "fmri_sub1_ffa_rdm = np.array(rdm)\n",
    "np.savez(\"/content/rsatoolbox/input_data/brain_data/3SecVideos/fmri_sub1_ffa_rdm.npz\", fmri_sub1_ffa_rdm)\n",
    "\n",
    "rdm = []\n",
    "rdm.append(sub2)\n",
    "fmri_sub2_ffa_rdm = np.array(rdm)\n",
    "np.savez(\"/content/rsatoolbox/input_data/brain_data/3SecVideos/fmri_sub2_ffa_rdm.npz\", fmri_sub2_ffa_rdm)\n",
    "\n",
    "rdm = []\n",
    "rdm.append(sub3)\n",
    "fmri_sub3_ffa_rdm = np.array(rdm)\n",
    "np.savez(\"/content/rsatoolbox/input_data/brain_data/3SecVideos/fmri_sub3_ffa_rdm.npz\", fmri_sub3_ffa_rdm)\n",
    "\n",
    "rdm = []\n",
    "rdm.append(sub4)\n",
    "fmri_sub4_ffa_rdm = np.array(rdm)\n",
    "np.savez(\"/content/rsatoolbox/input_data/brain_data/3SecVideos/fmri_sub4_ffa_rdm.npz\", fmri_sub4_ffa_rdm)"
   ],
   "metadata": {
    "id": "Vj1MeFsBbyEu"
   },
   "execution_count": 6,
   "outputs": []
  },
  {
   "cell_type": "markdown",
   "source": [
    "# ***------------------------------------ END OF TOOLBOX USAGE                     -----------------------------------***"
   ],
   "metadata": {
    "id": "T-L_mmk0RCPs"
   }
  },
  {
   "cell_type": "markdown",
   "metadata": {
    "id": "dfobNXCLScXl"
   },
   "source": [
    "# ANALYSIS - Loading our data: (Not related to Toolbox)"
   ]
  },
  {
   "cell_type": "code",
   "source": [
    "! pip install nilearn"
   ],
   "metadata": {
    "colab": {
     "base_uri": "https://localhost:8080/"
    },
    "id": "6hu8jhD4V4fH",
    "outputId": "3a7706ae-e0e5-4ca9-9bbd-1f7035d4cbd6"
   },
   "execution_count": null,
   "outputs": [
    {
     "output_type": "stream",
     "name": "stdout",
     "text": [
      "Looking in indexes: https://pypi.org/simple, https://us-python.pkg.dev/colab-wheels/public/simple/\n",
      "Collecting nilearn\n",
      "  Downloading nilearn-0.9.2-py3-none-any.whl (9.6 MB)\n",
      "\u001B[K     |████████████████████████████████| 9.6 MB 6.4 MB/s \n",
      "\u001B[?25hRequirement already satisfied: scikit-learn>=0.22 in /usr/local/lib/python3.7/dist-packages (from nilearn) (1.0.2)\n",
      "Requirement already satisfied: nibabel>=3.0.0 in /usr/local/lib/python3.7/dist-packages (from nilearn) (3.0.2)\n",
      "Requirement already satisfied: joblib>=0.15 in /usr/local/lib/python3.7/dist-packages (from nilearn) (1.2.0)\n",
      "Requirement already satisfied: requests>=2 in /usr/local/lib/python3.7/dist-packages (from nilearn) (2.23.0)\n",
      "Requirement already satisfied: scipy>=1.5 in /usr/local/lib/python3.7/dist-packages (from nilearn) (1.7.3)\n",
      "Requirement already satisfied: lxml in /usr/local/lib/python3.7/dist-packages (from nilearn) (4.9.1)\n",
      "Requirement already satisfied: numpy>=1.18 in /usr/local/lib/python3.7/dist-packages (from nilearn) (1.21.6)\n",
      "Requirement already satisfied: pandas>=1.0 in /usr/local/lib/python3.7/dist-packages (from nilearn) (1.3.5)\n",
      "Requirement already satisfied: pytz>=2017.3 in /usr/local/lib/python3.7/dist-packages (from pandas>=1.0->nilearn) (2022.6)\n",
      "Requirement already satisfied: python-dateutil>=2.7.3 in /usr/local/lib/python3.7/dist-packages (from pandas>=1.0->nilearn) (2.8.2)\n",
      "Requirement already satisfied: six>=1.5 in /usr/local/lib/python3.7/dist-packages (from python-dateutil>=2.7.3->pandas>=1.0->nilearn) (1.15.0)\n",
      "Requirement already satisfied: certifi>=2017.4.17 in /usr/local/lib/python3.7/dist-packages (from requests>=2->nilearn) (2022.9.24)\n",
      "Requirement already satisfied: idna<3,>=2.5 in /usr/local/lib/python3.7/dist-packages (from requests>=2->nilearn) (2.10)\n",
      "Requirement already satisfied: urllib3!=1.25.0,!=1.25.1,<1.26,>=1.21.1 in /usr/local/lib/python3.7/dist-packages (from requests>=2->nilearn) (1.24.3)\n",
      "Requirement already satisfied: chardet<4,>=3.0.2 in /usr/local/lib/python3.7/dist-packages (from requests>=2->nilearn) (3.0.4)\n",
      "Requirement already satisfied: threadpoolctl>=2.0.0 in /usr/local/lib/python3.7/dist-packages (from scikit-learn>=0.22->nilearn) (3.1.0)\n",
      "Installing collected packages: nilearn\n",
      "Successfully installed nilearn-0.9.2\n"
     ]
    }
   ]
  },
  {
   "cell_type": "code",
   "execution_count": null,
   "metadata": {
    "id": "rMN-HA-ySfSf"
   },
   "outputs": [],
   "source": [
    "import os\n",
    "import numpy as np\n",
    "import nibabel as nib\n",
    "from nibabel.testing import data_path\n",
    "from nilearn import plotting\n",
    "from nilearn import image\n",
    "\n",
    "# masks\n",
    "evclh = \"/content/sub-01_task-EVC_space-T1w_contrast-EVC_hemi-lh_roi-mask.nii.gz\"\n",
    "evc_left = nib.load(evclh)\n",
    "\n",
    "evcrh = \"/content/sub-01_task-EVC_space-T1w_contrast-EVC_hemi-rh_roi-mask.nii.gz\"\n",
    "evc_right = nib.load(evcrh)\n",
    "\n",
    "evc_whole = np.add(evc_left.dataobj, evc_right.dataobj)\n",
    "evc_whole = nib.Nifti1Image(evc_whole, affine=evc_left.affine)"
   ]
  },
  {
   "cell_type": "markdown",
   "source": [
    "### Plotting EVC Masks and combining left and right:"
   ],
   "metadata": {
    "id": "G61mZUqUMEcM"
   }
  },
  {
   "cell_type": "code",
   "source": [
    "anat = nib.load('/content/sub-01_desc-preproc_T1w.nii.gz')\n",
    "plotting.plot_stat_map(evc_left, bg_img=anat)"
   ],
   "metadata": {
    "colab": {
     "base_uri": "https://localhost:8080/",
     "height": 236
    },
    "id": "QHWO-QdQC8UZ",
    "outputId": "00839940-7e19-4e75-a625-4238eea80e97"
   },
   "execution_count": null,
   "outputs": [
    {
     "output_type": "execute_result",
     "data": {
      "text/plain": [
       "<nilearn.plotting.displays._slicers.OrthoSlicer at 0x7fd0f60c6c10>"
      ]
     },
     "metadata": {},
     "execution_count": 4
    },
    {
     "output_type": "display_data",
     "data": {
      "text/plain": [
       "<Figure size 525.6x187.2 with 5 Axes>"
      ],
      "image/png": "[encoded data removed]"
     },
     "metadata": {}
    }
   ]
  },
  {
   "cell_type": "code",
   "source": [
    "plotting.plot_stat_map(evc_right, bg_img=anat)"
   ],
   "metadata": {
    "colab": {
     "base_uri": "https://localhost:8080/",
     "height": 236
    },
    "id": "QTbZJO1qHSxi",
    "outputId": "929f6c61-be69-4674-f196-bf815b188f09"
   },
   "execution_count": null,
   "outputs": [
    {
     "output_type": "execute_result",
     "data": {
      "text/plain": [
       "<nilearn.plotting.displays._slicers.OrthoSlicer at 0x7fc2b209ad50>"
      ]
     },
     "metadata": {},
     "execution_count": 107
    },
    {
     "output_type": "display_data",
     "data": {
      "text/plain": [
       "<Figure size 525.6x187.2 with 5 Axes>"
      ],
      "image/png": "[encoded data removed]"
     },
     "metadata": {}
    }
   ]
  },
  {
   "cell_type": "code",
   "source": [
    "plotting.plot_stat_map(evc_whole, bg_img=anat)"
   ],
   "metadata": {
    "colab": {
     "base_uri": "https://localhost:8080/",
     "height": 236
    },
    "id": "60WXgJbD2x9Y",
    "outputId": "44535c61-4f64-425a-a265-0d53acbde54e"
   },
   "execution_count": null,
   "outputs": [
    {
     "output_type": "execute_result",
     "data": {
      "text/plain": [
       "<nilearn.plotting.displays._slicers.OrthoSlicer at 0x7fc2b1f3b350>"
      ]
     },
     "metadata": {},
     "execution_count": 108
    },
    {
     "output_type": "display_data",
     "data": {
      "text/plain": [
       "<Figure size 525.6x187.2 with 5 Axes>"
      ],
      "image/png": "[encoded data removed]"
     },
     "metadata": {}
    }
   ]
  },
  {
   "cell_type": "markdown",
   "source": [
    "### Plotting first subject:"
   ],
   "metadata": {
    "id": "5QVlws-QL_cq"
   }
  },
  {
   "cell_type": "code",
   "source": [
    "# whole brain sub 1\n",
    "wbsub1_file = \"/content/sub-01_space-T1w_desc-train-fracridge_data (1).nii.gz\"\n",
    "wbsub1 = nib.load(wbsub1_file)\n",
    "\n",
    "evc_both = np.add(evc_left.dataobj, evc_right.dataobj)\n",
    "brain_arr = np.array(wbsub1.dataobj)\n",
    "evc_mask = evc_both.astype(bool)\n",
    "evc_brain = brain_arr[evc_mask,:]\n",
    "evc_brain[np.isnan(evc_brain)] = 0.0\n",
    "evc_brain = evc_brain.transpose()\n",
    "evc_brain.shape"
   ],
   "metadata": {
    "id": "NICDIX_a0PO0",
    "colab": {
     "base_uri": "https://localhost:8080/"
    },
    "outputId": "37e9a332-c337-4e11-ed40-ae9f7b1c7b3c"
   },
   "execution_count": null,
   "outputs": [
    {
     "output_type": "execute_result",
     "data": {
      "text/plain": [
       "(200, 3831)"
      ]
     },
     "metadata": {},
     "execution_count": 29
    }
   ]
  },
  {
   "cell_type": "code",
   "source": [
    "from sklearn.metrics import pairwise_distances\n",
    "import matplotlib.pyplot as plt\n",
    "\n",
    "sub_1_rdm = pairwise_distances(evc_brain, metric='euclidean')\n",
    "plt.imshow(sub_1_rdm)\n",
    "plt.xlabel(\"Stimuli (mp4 video)\", fontsize=15)\n",
    "plt.ylabel(\"Stimuli (mp4 video)\", fontsize=15)\n",
    "plt.title(\"Euclidean-based RDM - Subject 1\", fontsize=20)\n",
    "cbar = plt.colorbar()\n",
    "cbar.ax.set_ylabel('Euclidean distance', fontsize=15)\n",
    "plt.show()"
   ],
   "metadata": {
    "colab": {
     "base_uri": "https://localhost:8080/",
     "height": 305
    },
    "id": "w1Z806HcJuZ_",
    "outputId": "1d53b1bd-3e85-4703-c316-aeffd753c313"
   },
   "execution_count": null,
   "outputs": [
    {
     "output_type": "display_data",
     "data": {
      "text/plain": [
       "<Figure size 432x288 with 2 Axes>"
      ],
      "image/png": "[encoded data removed]"
     },
     "metadata": {
      "needs_background": "light"
     }
    }
   ]
  },
  {
   "cell_type": "markdown",
   "source": [
    "### Getting thresholded ROI analysis:"
   ],
   "metadata": {
    "id": "NCkhxremJlWU"
   }
  },
  {
   "cell_type": "code",
   "source": [
    "'''\n",
    "wbsub1_file = \"/content/sub-01_space-T1w_desc-train-fracridge_data (1).nii.gz\"\n",
    "wbsub1 = nib.load(wbsub1_file)\n",
    "betas = []\n",
    "for img in image.iter_img(wbsub1):\n",
    "  arr = np.array(img.dataobj).astype(float)\n",
    "  roi = arr * evc_mask.astype(int)\n",
    "  betas.append(roi)\n",
    "betas_nii = []\n",
    "for beta in betas:\n",
    "  betas_nii.append(nib.Nifti1Image(beta, affine=evc_left.affine))\n",
    "'''"
   ],
   "metadata": {
    "id": "E3EuqjZDwQZ6"
   },
   "execution_count": null,
   "outputs": []
  },
  {
   "cell_type": "code",
   "source": [],
   "metadata": {
    "colab": {
     "base_uri": "https://localhost:8080/"
    },
    "id": "GpxCNICHBqHr",
    "outputId": "6a3860db-8177-4a04-e0f4-b8dbc1ecb674"
   },
   "execution_count": null,
   "outputs": [
    {
     "output_type": "execute_result",
     "data": {
      "text/plain": [
       "3831"
      ]
     },
     "metadata": {},
     "execution_count": 34
    }
   ]
  },
  {
   "cell_type": "markdown",
   "metadata": {
    "id": "vGckgKx5VD7F"
   },
   "source": [
    "# **Addtional steps:**\n",
    "\n",
    "I recommend to download the RDMs only and delete the features again so the available space clears up. The cell below downloads all the genereated RDMs\n",
    "\n"
   ]
  },
  {
   "cell_type": "code",
   "execution_count": null,
   "metadata": {
    "id": "K0gCNif5VLVT",
    "colab": {
     "base_uri": "https://localhost:8080/",
     "height": 160
    },
    "outputId": "b7476e7f-cbea-4253-f011-031489ecf750"
   },
   "outputs": [
    {
     "output_type": "stream",
     "name": "stdout",
     "text": [
      "  adding: content/isiktoolbox/rdms/ (stored 0%)\n",
      "  adding: content/isiktoolbox/rdms/EmaliesData/ (stored 0%)\n",
      "  adding: content/isiktoolbox/rdms/EmaliesData/standard_ResNet50/ (stored 0%)\n",
      "  adding: content/isiktoolbox/rdms/EmaliesData/standard_ResNet50/layer4.npz (deflated 48%)\n",
      "  adding: content/isiktoolbox/rdms/EmaliesData/standard_ResNet50/layer2.npz (deflated 48%)\n",
      "  adding: content/isiktoolbox/rdms/EmaliesData/standard_ResNet50/layer3.npz (deflated 48%)\n",
      "  adding: content/isiktoolbox/rdms/EmaliesData/standard_ResNet50/args.json (deflated 40%)\n",
      "  adding: content/isiktoolbox/rdms/EmaliesData/standard_ResNet50/layer1.npz (deflated 48%)\n"
     ]
    },
    {
     "output_type": "display_data",
     "data": {
      "text/plain": [
       "<IPython.core.display.Javascript object>"
      ],
      "application/javascript": [
       "\n",
       "    async function download(id, filename, size) {\n",
       "      if (!google.colab.kernel.accessAllowed) {\n",
       "        return;\n",
       "      }\n",
       "      const div = document.createElement('div');\n",
       "      const label = document.createElement('label');\n",
       "      label.textContent = `Downloading \"${filename}\": `;\n",
       "      div.appendChild(label);\n",
       "      const progress = document.createElement('progress');\n",
       "      progress.max = size;\n",
       "      div.appendChild(progress);\n",
       "      document.body.appendChild(div);\n",
       "\n",
       "      const buffers = [];\n",
       "      let downloaded = 0;\n",
       "\n",
       "      const channel = await google.colab.kernel.comms.open(id);\n",
       "      // Send a message to notify the kernel that we're ready.\n",
       "      channel.send({})\n",
       "\n",
       "      for await (const message of channel.messages) {\n",
       "        // Send a message to notify the kernel that we're ready.\n",
       "        channel.send({})\n",
       "        if (message.buffers) {\n",
       "          for (const buffer of message.buffers) {\n",
       "            buffers.push(buffer);\n",
       "            downloaded += buffer.byteLength;\n",
       "            progress.value = downloaded;\n",
       "          }\n",
       "        }\n",
       "      }\n",
       "      const blob = new Blob(buffers, {type: 'application/binary'});\n",
       "      const a = document.createElement('a');\n",
       "      a.href = window.URL.createObjectURL(blob);\n",
       "      a.download = filename;\n",
       "      div.appendChild(a);\n",
       "      a.click();\n",
       "      div.remove();\n",
       "    }\n",
       "  "
      ]
     },
     "metadata": {}
    },
    {
     "output_type": "display_data",
     "data": {
      "text/plain": [
       "<IPython.core.display.Javascript object>"
      ],
      "application/javascript": [
       "download(\"download_6e7d1c61-bf60-40f5-adfb-47ae7eebbbd8\", \"rdms_from_colab.zip\", 2600)"
      ]
     },
     "metadata": {}
    }
   ],
   "source": [
    "from google.colab import files\n",
    "\n",
    "!zip -r /content/rdms_from_colab.zip /content/isiktoolbox/rdms/\n",
    "files.download(\"/content/rdms_from_colab.zip\")"
   ]
  },
  {
   "cell_type": "markdown",
   "metadata": {
    "id": "WBa-SjXdVNGR"
   },
   "source": [
    "\n",
    "\n",
    "---\n",
    "\n",
    "\n",
    "If you wish to delete the generated features to clear up space you can run the cell below\n",
    "\n",
    "**Only do that after RDMs have been generated!**"
   ]
  },
  {
   "cell_type": "code",
   "execution_count": null,
   "metadata": {
    "colab": {
     "base_uri": "https://localhost:8080/"
    },
    "id": "j9xtHsxxVTW6",
    "outputId": "02b29182-5982-4b69-9cc5-daf27b57801e"
   },
   "outputs": [
    {
     "name": "stdout",
     "output_type": "stream",
     "text": [
      "/content/Net2Brain\n"
     ]
    }
   ],
   "source": [
    "%cd /content/Net2Brain/\n",
    "!rm -rf feats"
   ]
  }
 ],
 "metadata": {
  "accelerator": "GPU",
  "colab": {
   "provenance": [],
   "collapsed_sections": [
    "eZaCjSWyTVos",
    "Zs6_FNCbTfDD"
   ]
  },
  "kernelspec": {
   "display_name": "Python 3",
   "name": "python3"
  },
  "language_info": {
   "name": "python"
  },
  "widgets": {
   "application/vnd.jupyter.widget-state+json": {
    "50bb34428b414687a4ad1281ba05b889": {
     "model_module": "@jupyter-widgets/controls",
     "model_name": "HBoxModel",
     "model_module_version": "1.5.0",
     "state": {
      "_dom_classes": [],
      "_model_module": "@jupyter-widgets/controls",
      "_model_module_version": "1.5.0",
      "_model_name": "HBoxModel",
      "_view_count": null,
      "_view_module": "@jupyter-widgets/controls",
      "_view_module_version": "1.5.0",
      "_view_name": "HBoxView",
      "box_style": "",
      "children": [
       "IPY_MODEL_63194a38e3874e0bb0fe9a04c85067f6",
       "IPY_MODEL_eaa9e26626384c5493de476f49e4ce76",
       "IPY_MODEL_17c15cba93ee47e49a79c01fb33bdacb"
      ],
      "layout": "IPY_MODEL_b0f082c0b6634084adc5580014cfd377"
     }
    },
    "63194a38e3874e0bb0fe9a04c85067f6": {
     "model_module": "@jupyter-widgets/controls",
     "model_name": "HTMLModel",
     "model_module_version": "1.5.0",
     "state": {
      "_dom_classes": [],
      "_model_module": "@jupyter-widgets/controls",
      "_model_module_version": "1.5.0",
      "_model_name": "HTMLModel",
      "_view_count": null,
      "_view_module": "@jupyter-widgets/controls",
      "_view_module_version": "1.5.0",
      "_view_name": "HTMLView",
      "description": "",
      "description_tooltip": null,
      "layout": "IPY_MODEL_d4d51d8bc0db47839c10ffb2def88a11",
      "placeholder": "​",
      "style": "IPY_MODEL_448801ce7bf34eae8332134496d4556e",
      "value": "100%"
     }
    },
    "eaa9e26626384c5493de476f49e4ce76": {
     "model_module": "@jupyter-widgets/controls",
     "model_name": "FloatProgressModel",
     "model_module_version": "1.5.0",
     "state": {
      "_dom_classes": [],
      "_model_module": "@jupyter-widgets/controls",
      "_model_module_version": "1.5.0",
      "_model_name": "FloatProgressModel",
      "_view_count": null,
      "_view_module": "@jupyter-widgets/controls",
      "_view_module_version": "1.5.0",
      "_view_name": "ProgressView",
      "bar_style": "success",
      "description": "",
      "description_tooltip": null,
      "layout": "IPY_MODEL_61121720d3d247c69373fd6b2b954cca",
      "max": 102530333,
      "min": 0,
      "orientation": "horizontal",
      "style": "IPY_MODEL_bf1ee64c950c4d07899c83a5a8c31852",
      "value": 102530333
     }
    },
    "17c15cba93ee47e49a79c01fb33bdacb": {
     "model_module": "@jupyter-widgets/controls",
     "model_name": "HTMLModel",
     "model_module_version": "1.5.0",
     "state": {
      "_dom_classes": [],
      "_model_module": "@jupyter-widgets/controls",
      "_model_module_version": "1.5.0",
      "_model_name": "HTMLModel",
      "_view_count": null,
      "_view_module": "@jupyter-widgets/controls",
      "_view_module_version": "1.5.0",
      "_view_name": "HTMLView",
      "description": "",
      "description_tooltip": null,
      "layout": "IPY_MODEL_7efb88fb43ff4e0d80c28dd16f4e8961",
      "placeholder": "​",
      "style": "IPY_MODEL_b2769e5a6e6c4caf9f335b83f6593605",
      "value": " 97.8M/97.8M [00:00&lt;00:00, 152MB/s]"
     }
    },
    "b0f082c0b6634084adc5580014cfd377": {
     "model_module": "@jupyter-widgets/base",
     "model_name": "LayoutModel",
     "model_module_version": "1.2.0",
     "state": {
      "_model_module": "@jupyter-widgets/base",
      "_model_module_version": "1.2.0",
      "_model_name": "LayoutModel",
      "_view_count": null,
      "_view_module": "@jupyter-widgets/base",
      "_view_module_version": "1.2.0",
      "_view_name": "LayoutView",
      "align_content": null,
      "align_items": null,
      "align_self": null,
      "border": null,
      "bottom": null,
      "display": null,
      "flex": null,
      "flex_flow": null,
      "grid_area": null,
      "grid_auto_columns": null,
      "grid_auto_flow": null,
      "grid_auto_rows": null,
      "grid_column": null,
      "grid_gap": null,
      "grid_row": null,
      "grid_template_areas": null,
      "grid_template_columns": null,
      "grid_template_rows": null,
      "height": null,
      "justify_content": null,
      "justify_items": null,
      "left": null,
      "margin": null,
      "max_height": null,
      "max_width": null,
      "min_height": null,
      "min_width": null,
      "object_fit": null,
      "object_position": null,
      "order": null,
      "overflow": null,
      "overflow_x": null,
      "overflow_y": null,
      "padding": null,
      "right": null,
      "top": null,
      "visibility": null,
      "width": null
     }
    },
    "d4d51d8bc0db47839c10ffb2def88a11": {
     "model_module": "@jupyter-widgets/base",
     "model_name": "LayoutModel",
     "model_module_version": "1.2.0",
     "state": {
      "_model_module": "@jupyter-widgets/base",
      "_model_module_version": "1.2.0",
      "_model_name": "LayoutModel",
      "_view_count": null,
      "_view_module": "@jupyter-widgets/base",
      "_view_module_version": "1.2.0",
      "_view_name": "LayoutView",
      "align_content": null,
      "align_items": null,
      "align_self": null,
      "border": null,
      "bottom": null,
      "display": null,
      "flex": null,
      "flex_flow": null,
      "grid_area": null,
      "grid_auto_columns": null,
      "grid_auto_flow": null,
      "grid_auto_rows": null,
      "grid_column": null,
      "grid_gap": null,
      "grid_row": null,
      "grid_template_areas": null,
      "grid_template_columns": null,
      "grid_template_rows": null,
      "height": null,
      "justify_content": null,
      "justify_items": null,
      "left": null,
      "margin": null,
      "max_height": null,
      "max_width": null,
      "min_height": null,
      "min_width": null,
      "object_fit": null,
      "object_position": null,
      "order": null,
      "overflow": null,
      "overflow_x": null,
      "overflow_y": null,
      "padding": null,
      "right": null,
      "top": null,
      "visibility": null,
      "width": null
     }
    },
    "448801ce7bf34eae8332134496d4556e": {
     "model_module": "@jupyter-widgets/controls",
     "model_name": "DescriptionStyleModel",
     "model_module_version": "1.5.0",
     "state": {
      "_model_module": "@jupyter-widgets/controls",
      "_model_module_version": "1.5.0",
      "_model_name": "DescriptionStyleModel",
      "_view_count": null,
      "_view_module": "@jupyter-widgets/base",
      "_view_module_version": "1.2.0",
      "_view_name": "StyleView",
      "description_width": ""
     }
    },
    "61121720d3d247c69373fd6b2b954cca": {
     "model_module": "@jupyter-widgets/base",
     "model_name": "LayoutModel",
     "model_module_version": "1.2.0",
     "state": {
      "_model_module": "@jupyter-widgets/base",
      "_model_module_version": "1.2.0",
      "_model_name": "LayoutModel",
      "_view_count": null,
      "_view_module": "@jupyter-widgets/base",
      "_view_module_version": "1.2.0",
      "_view_name": "LayoutView",
      "align_content": null,
      "align_items": null,
      "align_self": null,
      "border": null,
      "bottom": null,
      "display": null,
      "flex": null,
      "flex_flow": null,
      "grid_area": null,
      "grid_auto_columns": null,
      "grid_auto_flow": null,
      "grid_auto_rows": null,
      "grid_column": null,
      "grid_gap": null,
      "grid_row": null,
      "grid_template_areas": null,
      "grid_template_columns": null,
      "grid_template_rows": null,
      "height": null,
      "justify_content": null,
      "justify_items": null,
      "left": null,
      "margin": null,
      "max_height": null,
      "max_width": null,
      "min_height": null,
      "min_width": null,
      "object_fit": null,
      "object_position": null,
      "order": null,
      "overflow": null,
      "overflow_x": null,
      "overflow_y": null,
      "padding": null,
      "right": null,
      "top": null,
      "visibility": null,
      "width": null
     }
    },
    "bf1ee64c950c4d07899c83a5a8c31852": {
     "model_module": "@jupyter-widgets/controls",
     "model_name": "ProgressStyleModel",
     "model_module_version": "1.5.0",
     "state": {
      "_model_module": "@jupyter-widgets/controls",
      "_model_module_version": "1.5.0",
      "_model_name": "ProgressStyleModel",
      "_view_count": null,
      "_view_module": "@jupyter-widgets/base",
      "_view_module_version": "1.2.0",
      "_view_name": "StyleView",
      "bar_color": null,
      "description_width": ""
     }
    },
    "7efb88fb43ff4e0d80c28dd16f4e8961": {
     "model_module": "@jupyter-widgets/base",
     "model_name": "LayoutModel",
     "model_module_version": "1.2.0",
     "state": {
      "_model_module": "@jupyter-widgets/base",
      "_model_module_version": "1.2.0",
      "_model_name": "LayoutModel",
      "_view_count": null,
      "_view_module": "@jupyter-widgets/base",
      "_view_module_version": "1.2.0",
      "_view_name": "LayoutView",
      "align_content": null,
      "align_items": null,
      "align_self": null,
      "border": null,
      "bottom": null,
      "display": null,
      "flex": null,
      "flex_flow": null,
      "grid_area": null,
      "grid_auto_columns": null,
      "grid_auto_flow": null,
      "grid_auto_rows": null,
      "grid_column": null,
      "grid_gap": null,
      "grid_row": null,
      "grid_template_areas": null,
      "grid_template_columns": null,
      "grid_template_rows": null,
      "height": null,
      "justify_content": null,
      "justify_items": null,
      "left": null,
      "margin": null,
      "max_height": null,
      "max_width": null,
      "min_height": null,
      "min_width": null,
      "object_fit": null,
      "object_position": null,
      "order": null,
      "overflow": null,
      "overflow_x": null,
      "overflow_y": null,
      "padding": null,
      "right": null,
      "top": null,
      "visibility": null,
      "width": null
     }
    },
    "b2769e5a6e6c4caf9f335b83f6593605": {
     "model_module": "@jupyter-widgets/controls",
     "model_name": "DescriptionStyleModel",
     "model_module_version": "1.5.0",
     "state": {
      "_model_module": "@jupyter-widgets/controls",
      "_model_module_version": "1.5.0",
      "_model_name": "DescriptionStyleModel",
      "_view_count": null,
      "_view_module": "@jupyter-widgets/base",
      "_view_module_version": "1.2.0",
      "_view_name": "StyleView",
      "description_width": ""
     }
    }
   }
  }
 },
 "nbformat": 4,
 "nbformat_minor": 0
}
